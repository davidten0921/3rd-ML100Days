{
 "cells": [
  {
   "cell_type": "markdown",
   "metadata": {},
   "source": [
    "## Work\n",
    "1. 試比較 save_best_only 與否的差異\n",
    "2. 請僅存入將 save_weights_only 設定為 True, 並嘗試 reset ipynb 並將模型與權重重新建回並預測 x_test"
   ]
  },
  {
   "cell_type": "code",
   "execution_count": 1,
   "metadata": {},
   "outputs": [
    {
     "name": "stderr",
     "output_type": "stream",
     "text": [
      "Using TensorFlow backend.\n"
     ]
    }
   ],
   "source": [
    "import os\n",
    "import keras\n",
    "\n",
    "# Disable GPU\n",
    "#os.environ[\"CUDA_VISIBLE_DEVICES\"] = \"\"\n",
    "import tensorflow as tf\n",
    "gpu_options = tf.GPUOptions(per_process_gpu_memory_fraction=0.333)\n",
    "sess = tf.Session(config=tf.ConfigProto(gpu_options=gpu_options))"
   ]
  },
  {
   "cell_type": "code",
   "execution_count": 2,
   "metadata": {},
   "outputs": [],
   "source": [
    "train, test = keras.datasets.cifar10.load_data()"
   ]
  },
  {
   "cell_type": "code",
   "execution_count": 4,
   "metadata": {},
   "outputs": [],
   "source": [
    "## 資料前處理\n",
    "def preproc_x(x, flatten=True):\n",
    "    x = x / 255.\n",
    "    if flatten:\n",
    "        x = x.reshape((len(x), -1))\n",
    "    return x\n",
    "\n",
    "def preproc_y(y, num_classes=10):\n",
    "    if y.shape[-1] == 1:\n",
    "        y = keras.utils.to_categorical(y, num_classes)\n",
    "    return y    "
   ]
  },
  {
   "cell_type": "code",
   "execution_count": 5,
   "metadata": {},
   "outputs": [],
   "source": [
    "x_train, y_train = train\n",
    "x_test, y_test = test\n",
    "\n",
    "# Preproc the inputs\n",
    "x_train = preproc_x(x_train)\n",
    "x_test = preproc_x(x_test)\n",
    "\n",
    "# Preprc the outputs\n",
    "y_train = preproc_y(y_train)\n",
    "y_test = preproc_y(y_test)"
   ]
  },
  {
   "cell_type": "code",
   "execution_count": 5,
   "metadata": {},
   "outputs": [],
   "source": [
    "from keras.layers import BatchNormalization\n",
    "\n",
    "def build_mlp(input_shape, output_units=10, num_neurons=[512, 256, 128]):\n",
    "    input_layer = keras.layers.Input(input_shape)\n",
    "    \n",
    "    for i, n_units in enumerate(num_neurons):\n",
    "        if i == 0:\n",
    "            x = keras.layers.Dense(units=n_units, \n",
    "                                   activation=\"relu\", \n",
    "                                   name=\"hidden_layer\"+str(i+1))(input_layer)\n",
    "            x = BatchNormalization()(x)\n",
    "        else:\n",
    "            x = keras.layers.Dense(units=n_units, \n",
    "                                   activation=\"relu\", \n",
    "                                   name=\"hidden_layer\"+str(i+1))(x)\n",
    "            x = BatchNormalization()(x)\n",
    "    \n",
    "    out = keras.layers.Dense(units=output_units, activation=\"softmax\", name=\"output\")(x)\n",
    "    \n",
    "    model = keras.models.Model(inputs=[input_layer], outputs=[out])\n",
    "    return model"
   ]
  },
  {
   "cell_type": "code",
   "execution_count": 6,
   "metadata": {},
   "outputs": [],
   "source": [
    "\"\"\"Code Here\n",
    "設定超參數\n",
    "\"\"\"\n",
    "LEARNING_RATE = 1e-3\n",
    "EPOCHS = 50\n",
    "BATCH_SIZE = 1024\n",
    "MOMENTUM = 0.95\n",
    "Save_Best_Only_Exp = [True, False]"
   ]
  },
  {
   "cell_type": "code",
   "execution_count": 7,
   "metadata": {},
   "outputs": [],
   "source": [
    "# 載入 Callbacks\n",
    "\"\"\"Code Here\n",
    "設定 callbacks: model checkpoint\n",
    "\"\"\"\n",
    "from keras.callbacks import ModelCheckpoint\n"
   ]
  },
  {
   "cell_type": "code",
   "execution_count": 9,
   "metadata": {},
   "outputs": [
    {
     "name": "stdout",
     "output_type": "stream",
     "text": [
      "Experiment with Dropout = True\n",
      "Model: \"model_1\"\n",
      "_________________________________________________________________\n",
      "Layer (type)                 Output Shape              Param #   \n",
      "=================================================================\n",
      "input_1 (InputLayer)         (None, 3072)              0         \n",
      "_________________________________________________________________\n",
      "hidden_layer1 (Dense)        (None, 512)               1573376   \n",
      "_________________________________________________________________\n",
      "batch_normalization_1 (Batch (None, 512)               2048      \n",
      "_________________________________________________________________\n",
      "hidden_layer2 (Dense)        (None, 256)               131328    \n",
      "_________________________________________________________________\n",
      "batch_normalization_2 (Batch (None, 256)               1024      \n",
      "_________________________________________________________________\n",
      "hidden_layer3 (Dense)        (None, 128)               32896     \n",
      "_________________________________________________________________\n",
      "batch_normalization_3 (Batch (None, 128)               512       \n",
      "_________________________________________________________________\n",
      "output (Dense)               (None, 10)                1290      \n",
      "=================================================================\n",
      "Total params: 1,742,474\n",
      "Trainable params: 1,740,682\n",
      "Non-trainable params: 1,792\n",
      "_________________________________________________________________\n",
      "Train on 50000 samples, validate on 10000 samples\n",
      "Epoch 1/50\n",
      "50000/50000 [==============================] - 2s 48us/step - loss: 2.2178 - acc: 0.2705 - val_loss: 2.1280 - val_acc: 0.3218\n",
      "Epoch 2/50\n",
      "50000/50000 [==============================] - 2s 37us/step - loss: 1.7571 - acc: 0.3882 - val_loss: 1.8522 - val_acc: 0.3657\n",
      "Epoch 3/50\n",
      "50000/50000 [==============================] - 2s 39us/step - loss: 1.6317 - acc: 0.4302 - val_loss: 1.7169 - val_acc: 0.4063\n",
      "Epoch 4/50\n",
      "50000/50000 [==============================] - 2s 41us/step - loss: 1.5599 - acc: 0.4538 - val_loss: 1.6431 - val_acc: 0.4227\n",
      "Epoch 5/50\n",
      "50000/50000 [==============================] - 2s 42us/step - loss: 1.5037 - acc: 0.4749 - val_loss: 1.6185 - val_acc: 0.4384\n",
      "Epoch 6/50\n",
      "50000/50000 [==============================] - 2s 37us/step - loss: 1.4579 - acc: 0.4904 - val_loss: 1.5978 - val_acc: 0.4427\n",
      "Epoch 7/50\n",
      "50000/50000 [==============================] - 2s 37us/step - loss: 1.4187 - acc: 0.5035 - val_loss: 1.5597 - val_acc: 0.4532\n",
      "Epoch 8/50\n",
      "50000/50000 [==============================] - 2s 40us/step - loss: 1.3828 - acc: 0.5162 - val_loss: 1.5574 - val_acc: 0.4613\n",
      "Epoch 9/50\n",
      "50000/50000 [==============================] - 2s 38us/step - loss: 1.3494 - acc: 0.5305 - val_loss: 1.5334 - val_acc: 0.4603\n",
      "Epoch 10/50\n",
      "50000/50000 [==============================] - 2s 38us/step - loss: 1.3191 - acc: 0.5419 - val_loss: 1.5159 - val_acc: 0.4717\n",
      "Epoch 11/50\n",
      "50000/50000 [==============================] - 2s 41us/step - loss: 1.2915 - acc: 0.5515 - val_loss: 1.5099 - val_acc: 0.4792\n",
      "Epoch 12/50\n",
      "50000/50000 [==============================] - 2s 38us/step - loss: 1.2639 - acc: 0.5602 - val_loss: 1.5094 - val_acc: 0.4729\n",
      "Epoch 13/50\n",
      "50000/50000 [==============================] - 2s 38us/step - loss: 1.2384 - acc: 0.5706 - val_loss: 1.4873 - val_acc: 0.4833\n",
      "Epoch 14/50\n",
      "50000/50000 [==============================] - 2s 39us/step - loss: 1.2125 - acc: 0.5804 - val_loss: 1.4906 - val_acc: 0.4796\n",
      "Epoch 15/50\n",
      "50000/50000 [==============================] - 2s 43us/step - loss: 1.1884 - acc: 0.5915 - val_loss: 1.4939 - val_acc: 0.4858\n",
      "Epoch 16/50\n",
      "50000/50000 [==============================] - 2s 43us/step - loss: 1.1635 - acc: 0.5988 - val_loss: 1.4838 - val_acc: 0.4866\n",
      "Epoch 17/50\n",
      "50000/50000 [==============================] - 2s 39us/step - loss: 1.1412 - acc: 0.6085 - val_loss: 1.4781 - val_acc: 0.4839\n",
      "Epoch 18/50\n",
      "50000/50000 [==============================] - 2s 47us/step - loss: 1.1173 - acc: 0.6182 - val_loss: 1.4784 - val_acc: 0.4831\n",
      "Epoch 19/50\n",
      "50000/50000 [==============================] - 2s 40us/step - loss: 1.0946 - acc: 0.6251 - val_loss: 1.4835 - val_acc: 0.4848\n",
      "Epoch 20/50\n",
      "50000/50000 [==============================] - 2s 39us/step - loss: 1.0753 - acc: 0.6332 - val_loss: 1.4790 - val_acc: 0.4893\n",
      "Epoch 21/50\n",
      "50000/50000 [==============================] - 2s 42us/step - loss: 1.0519 - acc: 0.6434 - val_loss: 1.4820 - val_acc: 0.4871\n",
      "Epoch 22/50\n",
      "50000/50000 [==============================] - 2s 49us/step - loss: 1.0304 - acc: 0.6522 - val_loss: 1.4780 - val_acc: 0.4887\n",
      "Epoch 23/50\n",
      "50000/50000 [==============================] - 2s 41us/step - loss: 1.0091 - acc: 0.6606 - val_loss: 1.4698 - val_acc: 0.4874\n",
      "Epoch 24/50\n",
      "50000/50000 [==============================] - 2s 46us/step - loss: 0.9876 - acc: 0.6680 - val_loss: 1.4678 - val_acc: 0.4928\n",
      "Epoch 25/50\n",
      "50000/50000 [==============================] - 2s 43us/step - loss: 0.9652 - acc: 0.6781 - val_loss: 1.4795 - val_acc: 0.4884\n",
      "Epoch 26/50\n",
      "50000/50000 [==============================] - 2s 37us/step - loss: 0.9441 - acc: 0.6867 - val_loss: 1.4813 - val_acc: 0.4865\n",
      "Epoch 27/50\n",
      "50000/50000 [==============================] - 2s 37us/step - loss: 0.9221 - acc: 0.6949 - val_loss: 1.5070 - val_acc: 0.4928\n",
      "Epoch 28/50\n",
      "50000/50000 [==============================] - 2s 38us/step - loss: 0.9034 - acc: 0.7015 - val_loss: 1.4980 - val_acc: 0.4878\n",
      "Epoch 29/50\n",
      "50000/50000 [==============================] - 2s 42us/step - loss: 0.8845 - acc: 0.7089 - val_loss: 1.4948 - val_acc: 0.4926\n",
      "Epoch 30/50\n",
      "50000/50000 [==============================] - 2s 40us/step - loss: 0.8624 - acc: 0.7176 - val_loss: 1.4987 - val_acc: 0.4952\n",
      "Epoch 31/50\n",
      "50000/50000 [==============================] - 2s 40us/step - loss: 0.8431 - acc: 0.7251 - val_loss: 1.5138 - val_acc: 0.4930\n",
      "Epoch 32/50\n",
      "50000/50000 [==============================] - 2s 38us/step - loss: 0.8227 - acc: 0.7313 - val_loss: 1.5195 - val_acc: 0.4837\n",
      "Epoch 33/50\n",
      "50000/50000 [==============================] - 2s 42us/step - loss: 0.8021 - acc: 0.7415 - val_loss: 1.5184 - val_acc: 0.4904\n",
      "Epoch 34/50\n",
      "50000/50000 [==============================] - 2s 39us/step - loss: 0.7842 - acc: 0.7473 - val_loss: 1.5249 - val_acc: 0.4939\n",
      "Epoch 35/50\n",
      "50000/50000 [==============================] - 2s 45us/step - loss: 0.7651 - acc: 0.7548 - val_loss: 1.5467 - val_acc: 0.4864\n",
      "Epoch 36/50\n",
      "50000/50000 [==============================] - 2s 38us/step - loss: 0.7468 - acc: 0.7616 - val_loss: 1.5410 - val_acc: 0.4901\n",
      "Epoch 37/50\n",
      "50000/50000 [==============================] - 2s 38us/step - loss: 0.7266 - acc: 0.7701 - val_loss: 1.5409 - val_acc: 0.4954\n",
      "Epoch 38/50\n",
      "50000/50000 [==============================] - 2s 37us/step - loss: 0.7078 - acc: 0.7783 - val_loss: 1.5746 - val_acc: 0.4914\n",
      "Epoch 39/50\n",
      "50000/50000 [==============================] - 2s 37us/step - loss: 0.6906 - acc: 0.7847 - val_loss: 1.5736 - val_acc: 0.4953\n",
      "Epoch 40/50\n",
      "50000/50000 [==============================] - 2s 38us/step - loss: 0.6702 - acc: 0.7920 - val_loss: 1.5832 - val_acc: 0.4896\n",
      "Epoch 41/50\n",
      "50000/50000 [==============================] - 2s 39us/step - loss: 0.6515 - acc: 0.8005 - val_loss: 1.5811 - val_acc: 0.4899\n",
      "Epoch 42/50\n",
      "50000/50000 [==============================] - 2s 38us/step - loss: 0.6342 - acc: 0.8059 - val_loss: 1.6035 - val_acc: 0.4907\n",
      "Epoch 43/50\n",
      "50000/50000 [==============================] - 2s 40us/step - loss: 0.6171 - acc: 0.8130 - val_loss: 1.6105 - val_acc: 0.4866\n",
      "Epoch 44/50\n",
      "50000/50000 [==============================] - 2s 37us/step - loss: 0.5993 - acc: 0.8208 - val_loss: 1.6485 - val_acc: 0.4866\n",
      "Epoch 45/50\n",
      "50000/50000 [==============================] - 2s 40us/step - loss: 0.5800 - acc: 0.8287 - val_loss: 1.6248 - val_acc: 0.4906\n",
      "Epoch 46/50\n",
      "50000/50000 [==============================] - 2s 37us/step - loss: 0.5646 - acc: 0.8340 - val_loss: 1.6584 - val_acc: 0.4816\n",
      "Epoch 47/50\n",
      "50000/50000 [==============================] - 2s 37us/step - loss: 0.5491 - acc: 0.8412 - val_loss: 1.6825 - val_acc: 0.4935\n",
      "Epoch 48/50\n",
      "50000/50000 [==============================] - 2s 37us/step - loss: 0.5308 - acc: 0.8482 - val_loss: 1.7058 - val_acc: 0.4770\n",
      "Epoch 49/50\n"
     ]
    },
    {
     "name": "stdout",
     "output_type": "stream",
     "text": [
      "50000/50000 [==============================] - 2s 37us/step - loss: 0.5143 - acc: 0.8552 - val_loss: 1.6814 - val_acc: 0.4863\n",
      "Epoch 50/50\n",
      "50000/50000 [==============================] - 2s 37us/step - loss: 0.4974 - acc: 0.8608 - val_loss: 1.6909 - val_acc: 0.4873\n",
      "10000/10000 [==============================] - 1s 53us/step\n",
      "Experiment with Dropout = False\n",
      "Model: \"model_1\"\n",
      "_________________________________________________________________\n",
      "Layer (type)                 Output Shape              Param #   \n",
      "=================================================================\n",
      "input_1 (InputLayer)         (None, 3072)              0         \n",
      "_________________________________________________________________\n",
      "hidden_layer1 (Dense)        (None, 512)               1573376   \n",
      "_________________________________________________________________\n",
      "batch_normalization_1 (Batch (None, 512)               2048      \n",
      "_________________________________________________________________\n",
      "hidden_layer2 (Dense)        (None, 256)               131328    \n",
      "_________________________________________________________________\n",
      "batch_normalization_2 (Batch (None, 256)               1024      \n",
      "_________________________________________________________________\n",
      "hidden_layer3 (Dense)        (None, 128)               32896     \n",
      "_________________________________________________________________\n",
      "batch_normalization_3 (Batch (None, 128)               512       \n",
      "_________________________________________________________________\n",
      "output (Dense)               (None, 10)                1290      \n",
      "=================================================================\n",
      "Total params: 1,742,474\n",
      "Trainable params: 1,740,682\n",
      "Non-trainable params: 1,792\n",
      "_________________________________________________________________\n",
      "Train on 50000 samples, validate on 10000 samples\n",
      "Epoch 1/50\n",
      "50000/50000 [==============================] - 2s 46us/step - loss: 2.1893 - acc: 0.2731 - val_loss: 2.0891 - val_acc: 0.3211\n",
      "Epoch 2/50\n",
      "50000/50000 [==============================] - 2s 39us/step - loss: 1.7481 - acc: 0.3913 - val_loss: 1.7946 - val_acc: 0.3868\n",
      "Epoch 3/50\n",
      "50000/50000 [==============================] - 2s 39us/step - loss: 1.6262 - acc: 0.4325 - val_loss: 1.6914 - val_acc: 0.4181\n",
      "Epoch 4/50\n",
      "50000/50000 [==============================] - 2s 42us/step - loss: 1.5531 - acc: 0.4609 - val_loss: 1.6323 - val_acc: 0.4320\n",
      "Epoch 5/50\n",
      "50000/50000 [==============================] - 2s 37us/step - loss: 1.4974 - acc: 0.4804 - val_loss: 1.6094 - val_acc: 0.4397\n",
      "Epoch 6/50\n",
      "50000/50000 [==============================] - 2s 39us/step - loss: 1.4552 - acc: 0.4954 - val_loss: 1.5719 - val_acc: 0.4548\n",
      "Epoch 7/50\n",
      "50000/50000 [==============================] - 2s 37us/step - loss: 1.4139 - acc: 0.5105 - val_loss: 1.5536 - val_acc: 0.4592\n",
      "Epoch 8/50\n",
      "50000/50000 [==============================] - 2s 36us/step - loss: 1.3799 - acc: 0.5230 - val_loss: 1.5282 - val_acc: 0.4656\n",
      "Epoch 9/50\n",
      "50000/50000 [==============================] - 2s 39us/step - loss: 1.3481 - acc: 0.5341 - val_loss: 1.5192 - val_acc: 0.4714\n",
      "Epoch 10/50\n",
      "50000/50000 [==============================] - 2s 43us/step - loss: 1.3188 - acc: 0.5455 - val_loss: 1.5171 - val_acc: 0.4731\n",
      "Epoch 11/50\n",
      "50000/50000 [==============================] - 2s 37us/step - loss: 1.2907 - acc: 0.5549 - val_loss: 1.4915 - val_acc: 0.4804\n",
      "Epoch 12/50\n",
      "50000/50000 [==============================] - 2s 37us/step - loss: 1.2659 - acc: 0.5629 - val_loss: 1.4895 - val_acc: 0.4819\n",
      "Epoch 13/50\n",
      "50000/50000 [==============================] - 2s 37us/step - loss: 1.2383 - acc: 0.5713 - val_loss: 1.5003 - val_acc: 0.4807\n",
      "Epoch 14/50\n",
      "50000/50000 [==============================] - 2s 37us/step - loss: 1.2144 - acc: 0.5825 - val_loss: 1.4772 - val_acc: 0.4886\n",
      "Epoch 15/50\n",
      "50000/50000 [==============================] - 2s 37us/step - loss: 1.1908 - acc: 0.5896 - val_loss: 1.4744 - val_acc: 0.4907\n",
      "Epoch 16/50\n",
      "50000/50000 [==============================] - 2s 39us/step - loss: 1.1667 - acc: 0.6005 - val_loss: 1.4640 - val_acc: 0.4895\n",
      "Epoch 17/50\n",
      "50000/50000 [==============================] - 2s 37us/step - loss: 1.1437 - acc: 0.6077 - val_loss: 1.4686 - val_acc: 0.4860\n",
      "Epoch 18/50\n",
      "50000/50000 [==============================] - 2s 36us/step - loss: 1.1213 - acc: 0.6136 - val_loss: 1.4645 - val_acc: 0.4881\n",
      "Epoch 19/50\n",
      "50000/50000 [==============================] - 2s 39us/step - loss: 1.1017 - acc: 0.6214 - val_loss: 1.4653 - val_acc: 0.4913\n",
      "Epoch 20/50\n",
      "50000/50000 [==============================] - 2s 39us/step - loss: 1.0788 - acc: 0.6320 - val_loss: 1.4586 - val_acc: 0.4948\n",
      "Epoch 21/50\n",
      "50000/50000 [==============================] - 2s 39us/step - loss: 1.0568 - acc: 0.6399 - val_loss: 1.4578 - val_acc: 0.4980\n",
      "Epoch 22/50\n",
      "50000/50000 [==============================] - 2s 38us/step - loss: 1.0353 - acc: 0.6481 - val_loss: 1.4597 - val_acc: 0.4956\n",
      "Epoch 23/50\n",
      "50000/50000 [==============================] - 2s 38us/step - loss: 1.0158 - acc: 0.6542 - val_loss: 1.4639 - val_acc: 0.4945\n",
      "Epoch 24/50\n",
      "50000/50000 [==============================] - 2s 38us/step - loss: 0.9959 - acc: 0.6624 - val_loss: 1.4657 - val_acc: 0.4951\n",
      "Epoch 25/50\n",
      "50000/50000 [==============================] - 2s 37us/step - loss: 0.9735 - acc: 0.6709 - val_loss: 1.4861 - val_acc: 0.4899\n",
      "Epoch 26/50\n",
      "50000/50000 [==============================] - 2s 39us/step - loss: 0.9551 - acc: 0.6778 - val_loss: 1.4681 - val_acc: 0.4983\n",
      "Epoch 27/50\n",
      "50000/50000 [==============================] - 2s 38us/step - loss: 0.9345 - acc: 0.6875 - val_loss: 1.4703 - val_acc: 0.4944\n",
      "Epoch 28/50\n",
      "50000/50000 [==============================] - 2s 36us/step - loss: 0.9159 - acc: 0.6942 - val_loss: 1.4768 - val_acc: 0.4990\n",
      "Epoch 29/50\n",
      "50000/50000 [==============================] - 2s 36us/step - loss: 0.8948 - acc: 0.7024 - val_loss: 1.4854 - val_acc: 0.4889\n",
      "Epoch 30/50\n",
      "50000/50000 [==============================] - 2s 37us/step - loss: 0.8760 - acc: 0.7092 - val_loss: 1.4854 - val_acc: 0.4978\n",
      "Epoch 31/50\n",
      "50000/50000 [==============================] - 2s 39us/step - loss: 0.8548 - acc: 0.7187 - val_loss: 1.4981 - val_acc: 0.4972\n",
      "Epoch 32/50\n",
      "50000/50000 [==============================] - 2s 37us/step - loss: 0.8381 - acc: 0.7243 - val_loss: 1.5000 - val_acc: 0.4967\n",
      "Epoch 33/50\n",
      "50000/50000 [==============================] - 2s 40us/step - loss: 0.8186 - acc: 0.7333 - val_loss: 1.5111 - val_acc: 0.4922\n",
      "Epoch 34/50\n",
      "50000/50000 [==============================] - 2s 38us/step - loss: 0.7988 - acc: 0.7399 - val_loss: 1.5063 - val_acc: 0.4912\n",
      "Epoch 35/50\n",
      "50000/50000 [==============================] - 2s 41us/step - loss: 0.7797 - acc: 0.7468 - val_loss: 1.5159 - val_acc: 0.4894\n",
      "Epoch 36/50\n",
      "50000/50000 [==============================] - 2s 38us/step - loss: 0.7600 - acc: 0.7553 - val_loss: 1.5361 - val_acc: 0.4936\n",
      "Epoch 37/50\n",
      "50000/50000 [==============================] - 2s 39us/step - loss: 0.7441 - acc: 0.7607 - val_loss: 1.5386 - val_acc: 0.4918\n",
      "Epoch 38/50\n",
      "50000/50000 [==============================] - 2s 37us/step - loss: 0.7245 - acc: 0.7713 - val_loss: 1.5360 - val_acc: 0.4918\n",
      "Epoch 39/50\n",
      "50000/50000 [==============================] - 2s 37us/step - loss: 0.7066 - acc: 0.7763 - val_loss: 1.5591 - val_acc: 0.4913\n",
      "Epoch 40/50\n",
      "50000/50000 [==============================] - 2s 37us/step - loss: 0.6873 - acc: 0.7840 - val_loss: 1.5748 - val_acc: 0.4860\n",
      "Epoch 41/50\n",
      "50000/50000 [==============================] - 2s 39us/step - loss: 0.6701 - acc: 0.7928 - val_loss: 1.5622 - val_acc: 0.4930\n",
      "Epoch 42/50\n",
      "50000/50000 [==============================] - 2s 36us/step - loss: 0.6522 - acc: 0.7981 - val_loss: 1.5888 - val_acc: 0.4902\n",
      "Epoch 43/50\n",
      "50000/50000 [==============================] - 2s 37us/step - loss: 0.6352 - acc: 0.8065 - val_loss: 1.5930 - val_acc: 0.4859\n",
      "Epoch 44/50\n",
      "50000/50000 [==============================] - 2s 37us/step - loss: 0.6178 - acc: 0.8114 - val_loss: 1.6081 - val_acc: 0.4928\n",
      "Epoch 45/50\n",
      "50000/50000 [==============================] - 2s 40us/step - loss: 0.5998 - acc: 0.8186 - val_loss: 1.6082 - val_acc: 0.4909\n",
      "Epoch 46/50\n",
      "50000/50000 [==============================] - 2s 37us/step - loss: 0.5844 - acc: 0.8255 - val_loss: 1.6102 - val_acc: 0.4943\n",
      "Epoch 47/50\n"
     ]
    },
    {
     "name": "stdout",
     "output_type": "stream",
     "text": [
      "50000/50000 [==============================] - 2s 37us/step - loss: 0.5644 - acc: 0.8336 - val_loss: 1.6339 - val_acc: 0.4929\n",
      "Epoch 48/50\n",
      "50000/50000 [==============================] - 2s 42us/step - loss: 0.5493 - acc: 0.8391 - val_loss: 1.6447 - val_acc: 0.4883\n",
      "Epoch 49/50\n",
      "50000/50000 [==============================] - 2s 42us/step - loss: 0.5326 - acc: 0.8452 - val_loss: 1.6453 - val_acc: 0.4947\n",
      "Epoch 50/50\n",
      "50000/50000 [==============================] - 2s 37us/step - loss: 0.5158 - acc: 0.8514 - val_loss: 1.6701 - val_acc: 0.4844\n",
      "10000/10000 [==============================] - 1s 53us/step\n"
     ]
    }
   ],
   "source": [
    "results = {}\n",
    "\"\"\"Code Here\n",
    "撰寫你的訓練流程並將結果用 dictionary 紀錄\n",
    "\"\"\"\n",
    "\n",
    "for save_best in Save_Best_Only_Exp:\n",
    "    keras.backend.clear_session() # 把舊的 Graph 清掉\n",
    "    print(\"Experiment with Dropout = %s\" % (save_best))\n",
    "    model_ckpt = ModelCheckpoint(filepath=\"./tmp.h5\", \n",
    "                             monitor=\"val_loss\", \n",
    "                             save_best_only=save_best)  \n",
    "    model = build_mlp(input_shape=x_train.shape[1:])\n",
    "    model.summary()\n",
    "    optimizer = keras.optimizers.SGD(lr=LEARNING_RATE, nesterov=True, momentum=MOMENTUM)\n",
    "    model.compile(loss=\"categorical_crossentropy\", metrics=[\"accuracy\"], optimizer=optimizer)\n",
    "\n",
    "    model.fit(x_train, y_train, \n",
    "          epochs=EPOCHS, \n",
    "          batch_size=BATCH_SIZE, \n",
    "          validation_data=(x_test, y_test), \n",
    "          shuffle=True,\n",
    "          callbacks=[model_ckpt]\n",
    "         )\n",
    "\n",
    "    # Collect results\n",
    "    train_loss = model.history.history[\"loss\"]\n",
    "    valid_loss = model.history.history[\"val_loss\"]\n",
    "    train_acc = model.history.history[\"acc\"]\n",
    "    valid_acc = model.history.history[\"val_acc\"]\n",
    "\n",
    "    # Load back\n",
    "    model = keras.models.load_model(\"./tmp.h5\")\n",
    "    loss_loadback, acc_loadback = model.evaluate(x_test, y_test)\n",
    "\n",
    "    exp_name_tag = \"exp-save_best-%s\" % str(save_best)\n",
    "    results[exp_name_tag] = {'train-loss': train_loss,\n",
    "                             'valid-loss': valid_loss,\n",
    "                             'train-acc': train_acc,\n",
    "                             'valid-acc': valid_acc}\n",
    "\n",
    "    \n"
   ]
  },
  {
   "cell_type": "code",
   "execution_count": 10,
   "metadata": {
    "scrolled": true
   },
   "outputs": [
    {
     "data": {
      "image/png": "[encoded data removed]",
      "text/plain": [
       "<Figure size 576x432 with 1 Axes>"
      ]
     },
     "metadata": {
      "needs_background": "light"
     },
     "output_type": "display_data"
    },
    {
     "data": {
      "image/png": "[encoded data removed]",
      "text/plain": [
       "<Figure size 576x432 with 1 Axes>"
      ]
     },
     "metadata": {
      "needs_background": "light"
     },
     "output_type": "display_data"
    }
   ],
   "source": [
    "import matplotlib.pyplot as plt\n",
    "%matplotlib inline\n",
    "\"\"\"Code Here\n",
    "將結果繪出\n",
    "\"\"\"\n",
    "\n",
    "color_bar = [\"r\", \"g\", \"b\", \"y\", \"m\", \"k\"]\n",
    "\n",
    "plt.figure(figsize=(8,6))\n",
    "for i, cond in enumerate(results.keys()):\n",
    "    plt.plot(range(len(results[cond]['train-loss'])),results[cond]['train-loss'], '-', label=cond, color=color_bar[i])\n",
    "    plt.plot(range(len(results[cond]['valid-loss'])),results[cond]['valid-loss'], '--', label=cond, color=color_bar[i])\n",
    "    plt.hlines(y=loss_loadback, xmin=0, xmax=len(train_loss), colors='r', linestyles='--')\n",
    "plt.title(\"Save_Best Loss\")\n",
    "plt.ylim([0, 5])\n",
    "plt.legend()\n",
    "plt.show()\n",
    "\n",
    "plt.figure(figsize=(8,6))\n",
    "for i, cond in enumerate(results.keys()):\n",
    "    plt.plot(range(len(results[cond]['train-acc'])),results[cond]['train-acc'], '-', label=cond, color=color_bar[i])\n",
    "    plt.plot(range(len(results[cond]['valid-acc'])),results[cond]['valid-acc'], '--', label=cond, color=color_bar[i])\n",
    "    plt.hlines(y=acc_loadback, xmin=0, xmax=len(train_loss), colors='r', linestyles='--')\n",
    "plt.title(\"Save_Best Accuracy\")\n",
    "plt.legend()\n",
    "plt.show()"
   ]
  },
  {
   "cell_type": "code",
   "execution_count": 15,
   "metadata": {},
   "outputs": [
    {
     "name": "stdout",
     "output_type": "stream",
     "text": [
      "10000/10000 [==============================] - 1s 60us/step\n"
     ]
    }
   ],
   "source": [
    "# 這邊按下reload kernel 之後 直接跳入\n",
    "\n",
    "# Load back\n",
    "model = keras.models.load_model(\"./tmp.h5\")\n",
    "loss_loadback, acc_loadback = model.evaluate(x_test, y_test)"
   ]
  },
  {
   "cell_type": "code",
   "execution_count": 16,
   "metadata": {},
   "outputs": [
    {
     "name": "stdout",
     "output_type": "stream",
     "text": [
      "1.6701397779464722\n"
     ]
    }
   ],
   "source": [
    "print(loss_loadback)\n"
   ]
  },
  {
   "cell_type": "code",
   "execution_count": 17,
   "metadata": {},
   "outputs": [
    {
     "name": "stdout",
     "output_type": "stream",
     "text": [
      "0.4844\n"
     ]
    }
   ],
   "source": [
    "print(acc_loadback)"
   ]
  },
  {
   "cell_type": "code",
   "execution_count": null,
   "metadata": {},
   "outputs": [],
   "source": []
  }
 ],
 "metadata": {
  "kernelspec": {
   "display_name": "Python 3",
   "language": "python",
   "name": "python3"
  },
  "language_info": {
   "codemirror_mode": {
    "name": "ipython",
    "version": 3
   },
   "file_extension": ".py",
   "mimetype": "text/x-python",
   "name": "python",
   "nbconvert_exporter": "python",
   "pygments_lexer": "ipython3",
   "version": "3.6.6"
  }
 },
 "nbformat": 4,
 "nbformat_minor": 2
}
