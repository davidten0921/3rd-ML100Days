{
 "cells": [
  {
   "cell_type": "markdown",
   "metadata": {},
   "source": [
    "# 作業目標:\n",
    "    了解 Convolution 卷積的組成"
   ]
  },
  {
   "cell_type": "markdown",
   "metadata": {},
   "source": [
    "# 作業重點:\n",
    "    修改 a_slice_prev, 檢查 Z 的輸出"
   ]
  },
  {
   "cell_type": "code",
   "execution_count": 1,
   "metadata": {},
   "outputs": [],
   "source": [
    "import numpy as np"
   ]
  },
  {
   "cell_type": "code",
   "execution_count": 2,
   "metadata": {},
   "outputs": [],
   "source": [
    "# GRADED FUNCTION: conv_single_step\n",
    "def conv_single_step(a_slice_prev, W, b):\n",
    "    \"\"\"\n",
    "    定義一層 Kernel (內核), 使用的參數說明如下\n",
    "    Arguments:\n",
    "        a_slice_prev -- 輸入資料的維度\n",
    "        W -- 權重, 被使用在 a_slice_prev\n",
    "        b -- 偏差參數 \n",
    "    Returns:\n",
    "        Z -- 滑動窗口（W，b）卷積在前一個 feature map 上的結果\n",
    "    \"\"\"\n",
    "\n",
    "    # 定義一個元素介於 a_slice and W\n",
    "    s = a_slice_prev * W\n",
    "    # 加總所有的 \"s\" 並指定給Z.\n",
    "    Z = np.sum(s)\n",
    "    # Add bias b to Z. 這是 float() 函數,\n",
    "    Z = float(Z + b)\n",
    "\n",
    "    return Z"
   ]
  },
  {
   "cell_type": "code",
   "execution_count": 3,
   "metadata": {},
   "outputs": [
    {
     "data": {
      "text/plain": [
       "'\\n\\nnp.random.seed(1)\\n#定義一個 axaxd 的 feature map\\na_slice_prev = \\nW = \\nb = np.random.randn(1, 1, 1)\\n\\n#取得計算後,卷積矩陣的值\\nZ = conv_single_step(a_slice_prev, W, b)\\nprint(\"Z =\", Z)\\n'"
      ]
     },
     "execution_count": 3,
     "metadata": {},
     "output_type": "execute_result"
    }
   ],
   "source": [
    "'''\n",
    "\n",
    "np.random.seed(1)\n",
    "#定義一個 axaxd 的 feature map\n",
    "a_slice_prev = \n",
    "W = \n",
    "b = np.random.randn(1, 1, 1)\n",
    "\n",
    "#取得計算後,卷積矩陣的值\n",
    "Z = conv_single_step(a_slice_prev, W, b)\n",
    "print(\"Z =\", Z)\n",
    "'''"
   ]
  },
  {
   "cell_type": "code",
   "execution_count": 4,
   "metadata": {},
   "outputs": [
    {
     "name": "stdout",
     "output_type": "stream",
     "text": [
      "Z = 0.6045236367253778\n"
     ]
    }
   ],
   "source": [
    "np.random.seed(1)\n",
    "#定義一個 axaxd 的 feature map\n",
    "a_slice_prev = np.random.randn(4, 4, 5) \n",
    "W = np.random.randn(4, 4, 1)\n",
    "b = np.random.randn(1, 1, 1)\n",
    "\n",
    "#取得計算後,卷積矩陣的值\n",
    "Z = conv_single_step(a_slice_prev, W, b)\n",
    "print(\"Z =\", Z)"
   ]
  },
  {
   "cell_type": "code",
   "execution_count": 5,
   "metadata": {},
   "outputs": [
    {
     "name": "stdout",
     "output_type": "stream",
     "text": [
      "[[[ 1.62434536 -0.61175641 -0.52817175 -1.07296862  0.86540763]\n",
      "  [-2.3015387   1.74481176 -0.7612069   0.3190391  -0.24937038]\n",
      "  [ 1.46210794 -2.06014071 -0.3224172  -0.38405435  1.13376944]\n",
      "  [-1.09989127 -0.17242821 -0.87785842  0.04221375  0.58281521]]\n",
      "\n",
      " [[-1.10061918  1.14472371  0.90159072  0.50249434  0.90085595]\n",
      "  [-0.68372786 -0.12289023 -0.93576943 -0.26788808  0.53035547]\n",
      "  [-0.69166075 -0.39675353 -0.6871727  -0.84520564 -0.67124613]\n",
      "  [-0.0126646  -1.11731035  0.2344157   1.65980218  0.74204416]]\n",
      "\n",
      " [[-0.19183555 -0.88762896 -0.74715829  1.6924546   0.05080775]\n",
      "  [-0.63699565  0.19091548  2.10025514  0.12015895  0.61720311]\n",
      "  [ 0.30017032 -0.35224985 -1.1425182  -0.34934272 -0.20889423]\n",
      "  [ 0.58662319  0.83898341  0.93110208  0.28558733  0.88514116]]\n",
      "\n",
      " [[-0.75439794  1.25286816  0.51292982 -0.29809284  0.48851815]\n",
      "  [-0.07557171  1.13162939  1.51981682  2.18557541 -1.39649634]\n",
      "  [-1.44411381 -0.50446586  0.16003707  0.87616892  0.31563495]\n",
      "  [-2.02220122 -0.30620401  0.82797464  0.23009474  0.76201118]]]\n"
     ]
    }
   ],
   "source": [
    "print(a_slice_prev)"
   ]
  },
  {
   "cell_type": "code",
   "execution_count": null,
   "metadata": {},
   "outputs": [],
   "source": []
  }
 ],
 "metadata": {
  "kernelspec": {
   "display_name": "Python 3",
   "language": "python",
   "name": "python3"
  },
  "language_info": {
   "codemirror_mode": {
    "name": "ipython",
    "version": 3
   },
   "file_extension": ".py",
   "mimetype": "text/x-python",
   "name": "python",
   "nbconvert_exporter": "python",
   "pygments_lexer": "ipython3",
   "version": "3.6.6"
  }
 },
 "nbformat": 4,
 "nbformat_minor": 2
}
