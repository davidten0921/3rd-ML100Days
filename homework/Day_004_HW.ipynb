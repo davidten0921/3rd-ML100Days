{
 "cells": [
  {
   "cell_type": "markdown",
   "metadata": {},
   "source": [
    "## 練習時間\n",
    "資料的操作有很多，接下來的馬拉松中我們會介紹常被使用到的操作，參加者不妨先自行想像一下，第一次看到資料，我們一般會想知道什麼訊息？\n",
    "\n",
    "#### Ex: 如何知道資料的 row 數以及 column 數、有什麼欄位、多少欄位、如何截取部分的資料等等\n",
    "\n",
    "有了對資料的好奇之後，我們又怎麼通過程式碼來達成我們的目的呢？\n",
    "\n",
    "#### 可參考該[基礎教材](https://bookdata.readthedocs.io/en/latest/base/01_pandas.html#DataFrame-%E5%85%A5%E9%97%A8)或自行 google"
   ]
  },
  {
   "cell_type": "markdown",
   "metadata": {},
   "source": [
    "# [作業目標]\n",
    "- 熟悉更多的 Python 資料操作"
   ]
  },
  {
   "cell_type": "markdown",
   "metadata": {},
   "source": [
    "# [作業重點]\n",
    "- 列出資料的大小 (In[4], Hint : shape)\n",
    "- 列出所有欄位 (In[5], 有多種寫法)\n",
    "- 擷取部分資料 (In[6], Hint : loc 或 iloc)"
   ]
  },
  {
   "cell_type": "code",
   "execution_count": 1,
   "metadata": {},
   "outputs": [],
   "source": [
    "import os\n",
    "import numpy as np\n",
    "import pandas as pd"
   ]
  },
  {
   "cell_type": "code",
   "execution_count": 2,
   "metadata": {},
   "outputs": [],
   "source": [
    "# 設定 data_path\n",
    "dir_data = './data/'"
   ]
  },
  {
   "cell_type": "code",
   "execution_count": 3,
   "metadata": {},
   "outputs": [
    {
     "name": "stdout",
     "output_type": "stream",
     "text": [
      "Path of read in data: ./data/application_train.csv\n"
     ]
    }
   ],
   "source": [
    "f_app = os.path.join(dir_data, 'application_train.csv')\n",
    "print('Path of read in data: %s' % (f_app))\n",
    "app_train = pd.read_csv(f_app)"
   ]
  },
  {
   "cell_type": "markdown",
   "metadata": {},
   "source": [
    "### 如果沒有想法，可以先嘗試找出剛剛例子中提到的問題的答案\n",
    "#### 資料的 row 數以及 column 數"
   ]
  },
  {
   "cell_type": "code",
   "execution_count": 4,
   "metadata": {},
   "outputs": [
    {
     "name": "stdout",
     "output_type": "stream",
     "text": [
      "row count: 122\r\n",
      "col count: 307511\n"
     ]
    }
   ],
   "source": [
    "print('row count: {}\\r\\ncol count: {}'.format(app_train.shape[1], app_train.shape[0]))"
   ]
  },
  {
   "cell_type": "markdown",
   "metadata": {},
   "source": [
    "#### 列出所有欄位"
   ]
  },
  {
   "cell_type": "code",
   "execution_count": 6,
   "metadata": {},
   "outputs": [
    {
     "name": "stdout",
     "output_type": "stream",
     "text": [
      "Column0:\tSK_ID_CURR\n",
      "Column1:\tTARGET\n",
      "Column2:\tNAME_CONTRACT_TYPE\n",
      "Column3:\tCODE_GENDER\n",
      "Column4:\tFLAG_OWN_CAR\n",
      "Column5:\tFLAG_OWN_REALTY\n",
      "Column6:\tCNT_CHILDREN\n",
      "Column7:\tAMT_INCOME_TOTAL\n",
      "Column8:\tAMT_CREDIT\n",
      "Column9:\tAMT_ANNUITY\n",
      "Column10:\tAMT_GOODS_PRICE\n",
      "Column11:\tNAME_TYPE_SUITE\n",
      "Column12:\tNAME_INCOME_TYPE\n",
      "Column13:\tNAME_EDUCATION_TYPE\n",
      "Column14:\tNAME_FAMILY_STATUS\n",
      "Column15:\tNAME_HOUSING_TYPE\n",
      "Column16:\tREGION_POPULATION_RELATIVE\n",
      "Column17:\tDAYS_BIRTH\n",
      "Column18:\tDAYS_EMPLOYED\n",
      "Column19:\tDAYS_REGISTRATION\n",
      "Column20:\tDAYS_ID_PUBLISH\n",
      "Column21:\tOWN_CAR_AGE\n",
      "Column22:\tFLAG_MOBIL\n",
      "Column23:\tFLAG_EMP_PHONE\n",
      "Column24:\tFLAG_WORK_PHONE\n",
      "Column25:\tFLAG_CONT_MOBILE\n",
      "Column26:\tFLAG_PHONE\n",
      "Column27:\tFLAG_EMAIL\n",
      "Column28:\tOCCUPATION_TYPE\n",
      "Column29:\tCNT_FAM_MEMBERS\n",
      "Column30:\tREGION_RATING_CLIENT\n",
      "Column31:\tREGION_RATING_CLIENT_W_CITY\n",
      "Column32:\tWEEKDAY_APPR_PROCESS_START\n",
      "Column33:\tHOUR_APPR_PROCESS_START\n",
      "Column34:\tREG_REGION_NOT_LIVE_REGION\n",
      "Column35:\tREG_REGION_NOT_WORK_REGION\n",
      "Column36:\tLIVE_REGION_NOT_WORK_REGION\n",
      "Column37:\tREG_CITY_NOT_LIVE_CITY\n",
      "Column38:\tREG_CITY_NOT_WORK_CITY\n",
      "Column39:\tLIVE_CITY_NOT_WORK_CITY\n",
      "Column40:\tORGANIZATION_TYPE\n",
      "Column41:\tEXT_SOURCE_1\n",
      "Column42:\tEXT_SOURCE_2\n",
      "Column43:\tEXT_SOURCE_3\n",
      "Column44:\tAPARTMENTS_AVG\n",
      "Column45:\tBASEMENTAREA_AVG\n",
      "Column46:\tYEARS_BEGINEXPLUATATION_AVG\n",
      "Column47:\tYEARS_BUILD_AVG\n",
      "Column48:\tCOMMONAREA_AVG\n",
      "Column49:\tELEVATORS_AVG\n",
      "Column50:\tENTRANCES_AVG\n",
      "Column51:\tFLOORSMAX_AVG\n",
      "Column52:\tFLOORSMIN_AVG\n",
      "Column53:\tLANDAREA_AVG\n",
      "Column54:\tLIVINGAPARTMENTS_AVG\n",
      "Column55:\tLIVINGAREA_AVG\n",
      "Column56:\tNONLIVINGAPARTMENTS_AVG\n",
      "Column57:\tNONLIVINGAREA_AVG\n",
      "Column58:\tAPARTMENTS_MODE\n",
      "Column59:\tBASEMENTAREA_MODE\n",
      "Column60:\tYEARS_BEGINEXPLUATATION_MODE\n",
      "Column61:\tYEARS_BUILD_MODE\n",
      "Column62:\tCOMMONAREA_MODE\n",
      "Column63:\tELEVATORS_MODE\n",
      "Column64:\tENTRANCES_MODE\n",
      "Column65:\tFLOORSMAX_MODE\n",
      "Column66:\tFLOORSMIN_MODE\n",
      "Column67:\tLANDAREA_MODE\n",
      "Column68:\tLIVINGAPARTMENTS_MODE\n",
      "Column69:\tLIVINGAREA_MODE\n",
      "Column70:\tNONLIVINGAPARTMENTS_MODE\n",
      "Column71:\tNONLIVINGAREA_MODE\n",
      "Column72:\tAPARTMENTS_MEDI\n",
      "Column73:\tBASEMENTAREA_MEDI\n",
      "Column74:\tYEARS_BEGINEXPLUATATION_MEDI\n",
      "Column75:\tYEARS_BUILD_MEDI\n",
      "Column76:\tCOMMONAREA_MEDI\n",
      "Column77:\tELEVATORS_MEDI\n",
      "Column78:\tENTRANCES_MEDI\n",
      "Column79:\tFLOORSMAX_MEDI\n",
      "Column80:\tFLOORSMIN_MEDI\n",
      "Column81:\tLANDAREA_MEDI\n",
      "Column82:\tLIVINGAPARTMENTS_MEDI\n",
      "Column83:\tLIVINGAREA_MEDI\n",
      "Column84:\tNONLIVINGAPARTMENTS_MEDI\n",
      "Column85:\tNONLIVINGAREA_MEDI\n",
      "Column86:\tFONDKAPREMONT_MODE\n",
      "Column87:\tHOUSETYPE_MODE\n",
      "Column88:\tTOTALAREA_MODE\n",
      "Column89:\tWALLSMATERIAL_MODE\n",
      "Column90:\tEMERGENCYSTATE_MODE\n",
      "Column91:\tOBS_30_CNT_SOCIAL_CIRCLE\n",
      "Column92:\tDEF_30_CNT_SOCIAL_CIRCLE\n",
      "Column93:\tOBS_60_CNT_SOCIAL_CIRCLE\n",
      "Column94:\tDEF_60_CNT_SOCIAL_CIRCLE\n",
      "Column95:\tDAYS_LAST_PHONE_CHANGE\n",
      "Column96:\tFLAG_DOCUMENT_2\n",
      "Column97:\tFLAG_DOCUMENT_3\n",
      "Column98:\tFLAG_DOCUMENT_4\n",
      "Column99:\tFLAG_DOCUMENT_5\n",
      "Column100:\tFLAG_DOCUMENT_6\n",
      "Column101:\tFLAG_DOCUMENT_7\n",
      "Column102:\tFLAG_DOCUMENT_8\n",
      "Column103:\tFLAG_DOCUMENT_9\n",
      "Column104:\tFLAG_DOCUMENT_10\n",
      "Column105:\tFLAG_DOCUMENT_11\n",
      "Column106:\tFLAG_DOCUMENT_12\n",
      "Column107:\tFLAG_DOCUMENT_13\n",
      "Column108:\tFLAG_DOCUMENT_14\n",
      "Column109:\tFLAG_DOCUMENT_15\n",
      "Column110:\tFLAG_DOCUMENT_16\n",
      "Column111:\tFLAG_DOCUMENT_17\n",
      "Column112:\tFLAG_DOCUMENT_18\n",
      "Column113:\tFLAG_DOCUMENT_19\n",
      "Column114:\tFLAG_DOCUMENT_20\n",
      "Column115:\tFLAG_DOCUMENT_21\n",
      "Column116:\tAMT_REQ_CREDIT_BUREAU_HOUR\n",
      "Column117:\tAMT_REQ_CREDIT_BUREAU_DAY\n",
      "Column118:\tAMT_REQ_CREDIT_BUREAU_WEEK\n",
      "Column119:\tAMT_REQ_CREDIT_BUREAU_MON\n",
      "Column120:\tAMT_REQ_CREDIT_BUREAU_QRT\n",
      "Column121:\tAMT_REQ_CREDIT_BUREAU_YEAR\n"
     ]
    }
   ],
   "source": [
    "column_list = app_train.columns.values\n",
    "for i in range(column_list.size):\n",
    "    print('Column{}:\\t{}'.format(i, column_list[i]))"
   ]
  },
  {
   "cell_type": "markdown",
   "metadata": {},
   "source": [
    "#### 截取部分資料"
   ]
  },
  {
   "cell_type": "code",
   "execution_count": 9,
   "metadata": {},
   "outputs": [
    {
     "name": "stdout",
     "output_type": "stream",
     "text": [
      "SK_ID_CURR                        100006\n",
      "TARGET                                 0\n",
      "NAME_CONTRACT_TYPE            Cash loans\n",
      "CODE_GENDER                            F\n",
      "FLAG_OWN_CAR                           N\n",
      "                                 ...    \n",
      "AMT_REQ_CREDIT_BUREAU_DAY            NaN\n",
      "AMT_REQ_CREDIT_BUREAU_WEEK           NaN\n",
      "AMT_REQ_CREDIT_BUREAU_MON            NaN\n",
      "AMT_REQ_CREDIT_BUREAU_QRT            NaN\n",
      "AMT_REQ_CREDIT_BUREAU_YEAR           NaN\n",
      "Name: 3, Length: 122, dtype: object\r\n",
      "\n",
      "SK_ID_CURR                        100007\n",
      "TARGET                                 0\n",
      "NAME_CONTRACT_TYPE            Cash loans\n",
      "CODE_GENDER                            M\n",
      "FLAG_OWN_CAR                           N\n",
      "                                 ...    \n",
      "AMT_REQ_CREDIT_BUREAU_DAY              0\n",
      "AMT_REQ_CREDIT_BUREAU_WEEK             0\n",
      "AMT_REQ_CREDIT_BUREAU_MON              0\n",
      "AMT_REQ_CREDIT_BUREAU_QRT              0\n",
      "AMT_REQ_CREDIT_BUREAU_YEAR             0\n",
      "Name: 4, Length: 122, dtype: object\r\n",
      "\n",
      "SK_ID_CURR                        100008\n",
      "TARGET                                 0\n",
      "NAME_CONTRACT_TYPE            Cash loans\n",
      "CODE_GENDER                            M\n",
      "FLAG_OWN_CAR                           N\n",
      "                                 ...    \n",
      "AMT_REQ_CREDIT_BUREAU_DAY              0\n",
      "AMT_REQ_CREDIT_BUREAU_WEEK             0\n",
      "AMT_REQ_CREDIT_BUREAU_MON              0\n",
      "AMT_REQ_CREDIT_BUREAU_QRT              1\n",
      "AMT_REQ_CREDIT_BUREAU_YEAR             1\n",
      "Name: 5, Length: 122, dtype: object\r\n",
      "\n",
      "SK_ID_CURR                        100009\n",
      "TARGET                                 0\n",
      "NAME_CONTRACT_TYPE            Cash loans\n",
      "CODE_GENDER                            F\n",
      "FLAG_OWN_CAR                           Y\n",
      "                                 ...    \n",
      "AMT_REQ_CREDIT_BUREAU_DAY              0\n",
      "AMT_REQ_CREDIT_BUREAU_WEEK             0\n",
      "AMT_REQ_CREDIT_BUREAU_MON              1\n",
      "AMT_REQ_CREDIT_BUREAU_QRT              1\n",
      "AMT_REQ_CREDIT_BUREAU_YEAR             2\n",
      "Name: 6, Length: 122, dtype: object\r\n",
      "\n",
      "SK_ID_CURR                        100010\n",
      "TARGET                                 0\n",
      "NAME_CONTRACT_TYPE            Cash loans\n",
      "CODE_GENDER                            M\n",
      "FLAG_OWN_CAR                           Y\n",
      "                                 ...    \n",
      "AMT_REQ_CREDIT_BUREAU_DAY              0\n",
      "AMT_REQ_CREDIT_BUREAU_WEEK             0\n",
      "AMT_REQ_CREDIT_BUREAU_MON              0\n",
      "AMT_REQ_CREDIT_BUREAU_QRT              0\n",
      "AMT_REQ_CREDIT_BUREAU_YEAR             0\n",
      "Name: 7, Length: 122, dtype: object\r\n",
      "\n"
     ]
    }
   ],
   "source": [
    "#擷取第 3 筆到第 8 筆 資料\n",
    "dfObj =  pd.DataFrame(app_train, columns = column_list)\n",
    "for i in range(3,8):\n",
    "    print('{}\\r\\n'.format(dfObj.iloc[i]))"
   ]
  },
  {
   "cell_type": "markdown",
   "metadata": {},
   "source": [
    "#### 還有各種數之不盡的資料操作，重點還是取決於實務中遇到的狀況和你想問的問題，在馬拉松中我們也會陸續提到更多例子"
   ]
  },
  {
   "cell_type": "code",
   "execution_count": null,
   "metadata": {
    "collapsed": true
   },
   "outputs": [],
   "source": []
  }
 ],
 "metadata": {
  "kernelspec": {
   "display_name": "Python 3",
   "language": "python",
   "name": "python3"
  },
  "language_info": {
   "codemirror_mode": {
    "name": "ipython",
    "version": 3
   },
   "file_extension": ".py",
   "mimetype": "text/x-python",
   "name": "python",
   "nbconvert_exporter": "python",
   "pygments_lexer": "ipython3",
   "version": "3.6.6"
  }
 },
 "nbformat": 4,
 "nbformat_minor": 2
}
