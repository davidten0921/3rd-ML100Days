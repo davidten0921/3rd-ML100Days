{
 "cells": [
  {
   "cell_type": "markdown",
   "metadata": {},
   "source": [
    "## Work\n",
    "1. 請嘗試寫一個 callback 用來記錄各類別在訓練過程中，對驗證集的 True Positive 與 True Negative"
   ]
  },
  {
   "cell_type": "code",
   "execution_count": 1,
   "metadata": {},
   "outputs": [
    {
     "name": "stderr",
     "output_type": "stream",
     "text": [
      "Using TensorFlow backend.\n"
     ]
    }
   ],
   "source": [
    "import os\n",
    "import keras\n",
    "\n",
    "# 本範例不需使用 GPU, 將 GPU 設定為 \"無\"\n",
    "#os.environ[\"CUDA_VISIBLE_DEVICES\"] = \"\"\n",
    "import tensorflow as tf\n",
    "gpu_options = tf.GPUOptions(per_process_gpu_memory_fraction=0.333)\n",
    "sess = tf.Session(config=tf.ConfigProto(gpu_options=gpu_options))"
   ]
  },
  {
   "cell_type": "code",
   "execution_count": 2,
   "metadata": {},
   "outputs": [],
   "source": [
    "train, test = keras.datasets.cifar10.load_data()"
   ]
  },
  {
   "cell_type": "code",
   "execution_count": 3,
   "metadata": {},
   "outputs": [],
   "source": [
    "## 資料前處理\n",
    "def preproc_x(x, flatten=True):\n",
    "    x = x / 255.\n",
    "    if flatten:\n",
    "        x = x.reshape((len(x), -1))\n",
    "    return x\n",
    "\n",
    "def preproc_y(y, num_classes=10):\n",
    "    if y.shape[-1] == 1:\n",
    "        y = keras.utils.to_categorical(y, num_classes)\n",
    "    return y    "
   ]
  },
  {
   "cell_type": "code",
   "execution_count": 4,
   "metadata": {},
   "outputs": [],
   "source": [
    "x_train, y_train = train\n",
    "x_test, y_test = test\n",
    "\n",
    "# Preproc the inputs\n",
    "x_train = preproc_x(x_train)\n",
    "x_test = preproc_x(x_test)\n",
    "\n",
    "# Preprc the outputs\n",
    "y_train = preproc_y(y_train)\n",
    "y_test = preproc_y(y_test)"
   ]
  },
  {
   "cell_type": "code",
   "execution_count": 5,
   "metadata": {},
   "outputs": [],
   "source": [
    "from keras.layers import BatchNormalization\n",
    "def build_mlp(input_shape, output_units=10, num_neurons=[256, 256, 256]):\n",
    "    \"\"\"Code Here\n",
    "    建立你的神經網路\n",
    "    \"\"\"\n",
    "    input_layer = keras.layers.Input(input_shape)\n",
    "    \n",
    "    for i, n_units in enumerate(num_neurons):\n",
    "        if i == 0:\n",
    "            x = keras.layers.Dense(units=n_units, \n",
    "                                   activation=\"relu\", \n",
    "                                   name=\"hidden_layer\"+str(i+1))(input_layer)\n",
    "            x = BatchNormalization()(x)\n",
    "        else:\n",
    "            x = keras.layers.Dense(units=n_units, \n",
    "                                   activation=\"relu\", \n",
    "                                   name=\"hidden_layer\"+str(i+1))(x)\n",
    "            x = BatchNormalization()(x)\n",
    "    \n",
    "    out = keras.layers.Dense(units=output_units, activation=\"softmax\", name=\"output\")(x)\n",
    "    \n",
    "    model = keras.models.Model(inputs=[input_layer], outputs=[out])\n",
    "    return model"
   ]
  },
  {
   "cell_type": "code",
   "execution_count": 6,
   "metadata": {},
   "outputs": [],
   "source": [
    "## 超參數設定\n",
    "LEARNING_RATE = 1e-3\n",
    "EPOCHS = 25\n",
    "BATCH_SIZE = 1024\n",
    "MOMENTUM = 0.95"
   ]
  },
  {
   "cell_type": "code",
   "execution_count": 8,
   "metadata": {},
   "outputs": [],
   "source": [
    "# 載入 Callbacks\n",
    "from keras.callbacks import Callback\n",
    "\n",
    "# Record_fp_tp\n",
    "class Record_tp_tn(Callback):\n",
    "    \"\"\"Code Here\n",
    "    撰寫一個紀錄 ture positive 與 true negative 數量的 callbacks    \n",
    "    \"\"\"\n",
    "    def on_train_begin(self, epoch, logs = {}):\n",
    "        logs = logs or {}\n",
    "        record_items = [\"val_tp\", \"val_tn\"]\n",
    "        for i in record_items:\n",
    "            if i not in self.params['metrics']:\n",
    "                self.params['metrics'].append(i)\n",
    "    \n",
    "    def on_epoch_end(self, epoch, logs = {}, thres=0.5):\n",
    "        logs = logs or {}\n",
    "        y_true = self.validation_data[1].argmax(axis = 1)\n",
    "        y_pred = self.model.predict(self.validation_data[0])\n",
    "        y_pred = (y_pred[:, 1] >= thres) * 1\n",
    "        \n",
    "        logs[\"val_tp\"] = sum((y_true==1) & (y_pred==1))\n",
    "        logs[\"val_tn\"] = sum((y_true==0) & (y_pred==0))        \n",
    "        \n",
    "rec_tptn = Record_tp_tn()"
   ]
  },
  {
   "cell_type": "code",
   "execution_count": 10,
   "metadata": {
    "scrolled": true
   },
   "outputs": [
    {
     "name": "stdout",
     "output_type": "stream",
     "text": [
      "Model: \"model_2\"\n",
      "_________________________________________________________________\n",
      "Layer (type)                 Output Shape              Param #   \n",
      "=================================================================\n",
      "input_2 (InputLayer)         (None, 3072)              0         \n",
      "_________________________________________________________________\n",
      "hidden_layer1 (Dense)        (None, 256)               786688    \n",
      "_________________________________________________________________\n",
      "batch_normalization_4 (Batch (None, 256)               1024      \n",
      "_________________________________________________________________\n",
      "hidden_layer2 (Dense)        (None, 256)               65792     \n",
      "_________________________________________________________________\n",
      "batch_normalization_5 (Batch (None, 256)               1024      \n",
      "_________________________________________________________________\n",
      "hidden_layer3 (Dense)        (None, 256)               65792     \n",
      "_________________________________________________________________\n",
      "batch_normalization_6 (Batch (None, 256)               1024      \n",
      "_________________________________________________________________\n",
      "output (Dense)               (None, 10)                2570      \n",
      "=================================================================\n",
      "Total params: 923,914\n",
      "Trainable params: 922,378\n",
      "Non-trainable params: 1,536\n",
      "_________________________________________________________________\n",
      "WARNING:tensorflow:From d:\\sourcecode\\machinelearning\\venv\\lib\\site-packages\\tensorflow_core\\python\\ops\\math_grad.py:1424: where (from tensorflow.python.ops.array_ops) is deprecated and will be removed in a future version.\n",
      "Instructions for updating:\n",
      "Use tf.where in 2.0, which has the same broadcast rule as np.where\n",
      "WARNING:tensorflow:From d:\\sourcecode\\machinelearning\\venv\\lib\\site-packages\\keras\\backend\\tensorflow_backend.py:1033: The name tf.assign_add is deprecated. Please use tf.compat.v1.assign_add instead.\n",
      "\n",
      "WARNING:tensorflow:From d:\\sourcecode\\machinelearning\\venv\\lib\\site-packages\\keras\\backend\\tensorflow_backend.py:1020: The name tf.assign is deprecated. Please use tf.compat.v1.assign instead.\n",
      "\n",
      "Train on 50000 samples, validate on 10000 samples\n",
      "Epoch 1/25\n",
      "WARNING:tensorflow:From d:\\sourcecode\\machinelearning\\venv\\lib\\site-packages\\keras\\backend\\tensorflow_backend.py:190: The name tf.get_default_session is deprecated. Please use tf.compat.v1.get_default_session instead.\n",
      "\n",
      "WARNING:tensorflow:From d:\\sourcecode\\machinelearning\\venv\\lib\\site-packages\\keras\\backend\\tensorflow_backend.py:207: The name tf.global_variables is deprecated. Please use tf.compat.v1.global_variables instead.\n",
      "\n",
      "WARNING:tensorflow:From d:\\sourcecode\\machinelearning\\venv\\lib\\site-packages\\keras\\backend\\tensorflow_backend.py:216: The name tf.is_variable_initialized is deprecated. Please use tf.compat.v1.is_variable_initialized instead.\n",
      "\n",
      "WARNING:tensorflow:From d:\\sourcecode\\machinelearning\\venv\\lib\\site-packages\\keras\\backend\\tensorflow_backend.py:223: The name tf.variables_initializer is deprecated. Please use tf.compat.v1.variables_initializer instead.\n",
      "\n",
      "50000/50000 [==============================] - 4s 87us/step - loss: 2.2283 - acc: 0.2650 - val_loss: 2.0376 - val_acc: 0.3297\n",
      "Epoch 2/25\n",
      "50000/50000 [==============================] - 2s 38us/step - loss: 1.7617 - acc: 0.3868 - val_loss: 1.7991 - val_acc: 0.3675\n",
      "Epoch 3/25\n",
      "50000/50000 [==============================] - 2s 37us/step - loss: 1.6341 - acc: 0.4299 - val_loss: 1.6908 - val_acc: 0.4061\n",
      "Epoch 4/25\n",
      "50000/50000 [==============================] - 2s 36us/step - loss: 1.5627 - acc: 0.4556 - val_loss: 1.6296 - val_acc: 0.4267\n",
      "Epoch 5/25\n",
      "50000/50000 [==============================] - 2s 36us/step - loss: 1.5073 - acc: 0.4719 - val_loss: 1.5883 - val_acc: 0.4410\n",
      "Epoch 6/25\n",
      "50000/50000 [==============================] - 2s 36us/step - loss: 1.4636 - acc: 0.4873 - val_loss: 1.5664 - val_acc: 0.4514\n",
      "Epoch 7/25\n",
      "50000/50000 [==============================] - 2s 37us/step - loss: 1.4264 - acc: 0.5007 - val_loss: 1.5545 - val_acc: 0.4522\n",
      "Epoch 8/25\n",
      "50000/50000 [==============================] - 2s 39us/step - loss: 1.3931 - acc: 0.5141 - val_loss: 1.5336 - val_acc: 0.4584\n",
      "Epoch 9/25\n",
      "50000/50000 [==============================] - 2s 36us/step - loss: 1.3625 - acc: 0.5243 - val_loss: 1.5128 - val_acc: 0.4701\n",
      "Epoch 10/25\n",
      "50000/50000 [==============================] - 2s 38us/step - loss: 1.3354 - acc: 0.5337 - val_loss: 1.5035 - val_acc: 0.4680\n",
      "Epoch 11/25\n",
      "50000/50000 [==============================] - 2s 39us/step - loss: 1.3085 - acc: 0.5450 - val_loss: 1.4790 - val_acc: 0.4754\n",
      "Epoch 12/25\n",
      "50000/50000 [==============================] - 2s 37us/step - loss: 1.2837 - acc: 0.5516 - val_loss: 1.4764 - val_acc: 0.4803\n",
      "Epoch 13/25\n",
      "50000/50000 [==============================] - 2s 41us/step - loss: 1.2590 - acc: 0.5622 - val_loss: 1.4670 - val_acc: 0.4819\n",
      "Epoch 14/25\n",
      "50000/50000 [==============================] - 2s 39us/step - loss: 1.2395 - acc: 0.5694 - val_loss: 1.4758 - val_acc: 0.4832\n",
      "Epoch 15/25\n",
      "50000/50000 [==============================] - 2s 37us/step - loss: 1.2178 - acc: 0.5776 - val_loss: 1.4559 - val_acc: 0.4925\n",
      "Epoch 16/25\n",
      "50000/50000 [==============================] - 2s 36us/step - loss: 1.1986 - acc: 0.5856 - val_loss: 1.4564 - val_acc: 0.4858\n",
      "Epoch 17/25\n",
      "50000/50000 [==============================] - 2s 36us/step - loss: 1.1781 - acc: 0.5932 - val_loss: 1.4421 - val_acc: 0.4923\n",
      "Epoch 18/25\n",
      "50000/50000 [==============================] - 2s 39us/step - loss: 1.1591 - acc: 0.6018 - val_loss: 1.4507 - val_acc: 0.4865\n",
      "Epoch 19/25\n",
      "50000/50000 [==============================] - 2s 36us/step - loss: 1.1406 - acc: 0.6076 - val_loss: 1.4485 - val_acc: 0.4938\n",
      "Epoch 20/25\n",
      "50000/50000 [==============================] - 2s 36us/step - loss: 1.1233 - acc: 0.6141 - val_loss: 1.4428 - val_acc: 0.4942\n",
      "Epoch 21/25\n",
      "50000/50000 [==============================] - 2s 36us/step - loss: 1.1062 - acc: 0.6196 - val_loss: 1.4435 - val_acc: 0.4872\n",
      "Epoch 22/25\n",
      "50000/50000 [==============================] - 2s 36us/step - loss: 1.0885 - acc: 0.6258 - val_loss: 1.4374 - val_acc: 0.4979\n",
      "Epoch 23/25\n",
      "50000/50000 [==============================] - 2s 39us/step - loss: 1.0720 - acc: 0.6327 - val_loss: 1.4451 - val_acc: 0.4968\n",
      "Epoch 24/25\n",
      "50000/50000 [==============================] - 2s 36us/step - loss: 1.0538 - acc: 0.6401 - val_loss: 1.4332 - val_acc: 0.4965\n",
      "Epoch 25/25\n",
      "50000/50000 [==============================] - 2s 36us/step - loss: 1.0385 - acc: 0.6460 - val_loss: 1.4370 - val_acc: 0.4961\n"
     ]
    }
   ],
   "source": [
    "model = build_mlp(input_shape=x_train.shape[1:])\n",
    "model.summary()\n",
    "optimizer = keras.optimizers.SGD(lr=LEARNING_RATE, nesterov=True, momentum=MOMENTUM)\n",
    "model.compile(loss=\"categorical_crossentropy\", metrics=[\"accuracy\"], optimizer=optimizer)\n",
    "\n",
    "\"\"\"Code Here\n",
    "將 callbacks 放入模型訓練流程中\n",
    "\"\"\"\n",
    "model.fit(x_train, y_train, \n",
    "          epochs=EPOCHS, \n",
    "          batch_size=BATCH_SIZE, \n",
    "          validation_data=(x_test, y_test), \n",
    "          shuffle=True,\n",
    "          callbacks=[rec_tptn])\n",
    "\n",
    "# Collect results\n",
    "train_loss = model.history.history[\"loss\"]\n",
    "valid_loss = model.history.history[\"val_loss\"]\n",
    "train_acc = model.history.history[\"acc\"]\n",
    "valid_acc = model.history.history[\"val_acc\"]\n",
    "\n",
    "\"\"\"Code Here\n",
    "將 tp/tn 從訓練完的模型中取出\n",
    "\"\"\"\n",
    "valid_tp = model.history.history['val_tp']\n",
    "valid_tn = model.history.history['val_tn'] "
   ]
  },
  {
   "cell_type": "code",
   "execution_count": 11,
   "metadata": {},
   "outputs": [
    {
     "data": {
      "image/png": "[encoded data removed]",
      "text/plain": [
       "<Figure size 432x288 with 1 Axes>"
      ]
     },
     "metadata": {
      "needs_background": "light"
     },
     "output_type": "display_data"
    },
    {
     "data": {
      "image/png": "[encoded data removed]",
      "text/plain": [
       "<Figure size 432x288 with 1 Axes>"
      ]
     },
     "metadata": {
      "needs_background": "light"
     },
     "output_type": "display_data"
    },
    {
     "data": {
      "image/png": "[encoded data removed]",
      "text/plain": [
       "<Figure size 432x288 with 1 Axes>"
      ]
     },
     "metadata": {
      "needs_background": "light"
     },
     "output_type": "display_data"
    }
   ],
   "source": [
    "import matplotlib.pyplot as plt\n",
    "%matplotlib inline\n",
    "\n",
    "plt.plot(range(len(train_loss)), train_loss, label=\"train loss\")\n",
    "plt.plot(range(len(valid_loss)), valid_loss, label=\"valid loss\")\n",
    "plt.legend()\n",
    "plt.title(\"Loss\")\n",
    "plt.show()\n",
    "\n",
    "plt.plot(range(len(train_acc)), train_acc, label=\"train accuracy\")\n",
    "plt.plot(range(len(valid_acc)), valid_acc, label=\"valid accuracy\")\n",
    "plt.legend()\n",
    "plt.title(\"Accuracy\")\n",
    "plt.show()\n",
    "\n",
    "plt.plot(range(len(valid_tp)), valid_tp, label=\"valid tp\", color=\"navy\")\n",
    "plt.plot(range(len(valid_tn)), valid_tn, label=\"valid tn\", color=\"red\")\n",
    "plt.legend()\n",
    "plt.title(\"True positives and True Negatives\")\n",
    "plt.show()\n"
   ]
  },
  {
   "cell_type": "code",
   "execution_count": null,
   "metadata": {},
   "outputs": [],
   "source": []
  }
 ],
 "metadata": {
  "kernelspec": {
   "display_name": "Python 3",
   "language": "python",
   "name": "python3"
  },
  "language_info": {
   "codemirror_mode": {
    "name": "ipython",
    "version": 3
   },
   "file_extension": ".py",
   "mimetype": "text/x-python",
   "name": "python",
   "nbconvert_exporter": "python",
   "pygments_lexer": "ipython3",
   "version": "3.6.6"
  }
 },
 "nbformat": 4,
 "nbformat_minor": 2
}
