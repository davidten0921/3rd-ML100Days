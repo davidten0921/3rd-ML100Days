{
 "cells": [
  {
   "cell_type": "code",
   "execution_count": 4,
   "metadata": {},
   "outputs": [],
   "source": [
    "#作業 1\n",
    "import numpy as np\n",
    "import matplotlib.pyplot as plt\n",
    "import math"
   ]
  },
  {
   "cell_type": "code",
   "execution_count": 5,
   "metadata": {
    "scrolled": false
   },
   "outputs": [
    {
     "data": {
      "image/png": "[encoded data removed]",
      "text/plain": [
       "<Figure size 432x288 with 1 Axes>"
      ]
     },
     "metadata": {
      "needs_background": "light"
     },
     "output_type": "display_data"
    }
   ],
   "source": [
    "w = 3\n",
    "b = 0.5\n",
    "x_lin = np.linspace(0, 100, 101)\n",
    "y = (x_lin + np.random.randn(101) * 5) * w + b\n",
    "y_hat = x_lin * w + b;\n",
    "\n",
    "plt.plot(x_lin, y, 'g.', label = 'data points')\n",
    "plt.plot(x_lin, y_hat, 'r-', label = 'prediction')\n",
    "plt.title(\"Assume we have data points\")\n",
    "plt.legend(loc = 2)\n",
    "plt.show()\n"
   ]
  },
  {
   "cell_type": "code",
   "execution_count": 6,
   "metadata": {},
   "outputs": [
    {
     "name": "stdout",
     "output_type": "stream",
     "text": [
      "The Mean square error is 244.729\n"
     ]
    }
   ],
   "source": [
    "def mean_square_error(y, yi):\n",
    "    mse = 0.0\n",
    "    for i in range(len(y)):\n",
    "         mse += math.pow(y[i] - yi[i], 2)\n",
    "            \n",
    "    mse /= len(y)\n",
    "    return mse\n",
    "\n",
    "\n",
    "MSE = mean_square_error(y, y_hat)\n",
    "print(\"The Mean square error is %.3f\" % (MSE))"
   ]
  },
  {
   "cell_type": "code",
   "execution_count": 7,
   "metadata": {},
   "outputs": [
    {
     "data": {
      "text/plain": [
       "'\\n所選資料為 Severstal: Steel Defect Detection\\n原因: \\n鋼材瑕疵分析對材料界來說是個相當重要的課題\\n它可以協助改善材料冶金相關的技術\\n\\n資料提供者:\\nSeverstal\\n為生產過程中所拍攝照片收集而來\\n資料型態為 JPG 圖檔\\n\\n評估方式:\\n使用  mean Dice coefficient\\n\\n'"
      ]
     },
     "execution_count": 7,
     "metadata": {},
     "output_type": "execute_result"
    }
   ],
   "source": [
    "#作業 2\n",
    "\"\"\"\n",
    "所選資料為 Severstal: Steel Defect Detection\n",
    "原因: \n",
    "鋼材瑕疵分析對材料界來說是個相當重要的課題\n",
    "它可以協助改善材料冶金相關的技術\n",
    "\n",
    "資料提供者:\n",
    "Severstal\n",
    "為生產過程中所拍攝照片收集而來\n",
    "資料型態為 JPG 圖檔\n",
    "\n",
    "評估方式:\n",
    "使用  mean Dice coefficient\n",
    "\n",
    "\"\"\"\n"
   ]
  },
  {
   "cell_type": "code",
   "execution_count": 8,
   "metadata": {},
   "outputs": [
    {
     "data": {
      "text/plain": [
       "'\\n核心問題:\\n如何在最短的時間內提供載客服務\\n並且使用最少的油耗抵達目的地\\n並獲得最豐厚的利潤\\n\\n資料收集方式:\\n從叫車客服端(或是叫車app)收集通聯資訊\\n收集司機移動的地理位置軌跡歷程\\n從司機的加油收據以及里程表收集資訊\\n\\n資料型態:\\n文字檔, 記錄檔\\n\\n評估方法:\\n將客戶下單時間跟找到司機接單平均時間做比較\\n越短越好\\n並將客戶上車後移動的路徑做分析\\n路徑越短越好\\n再收集司機的加油單\\n金額越少越好\\n\\n\\n'"
      ]
     },
     "execution_count": 8,
     "metadata": {},
     "output_type": "execute_result"
    }
   ],
   "source": [
    "#作業 3\n",
    "\"\"\"\n",
    "核心問題:\n",
    "如何在最短的時間內提供載客服務\n",
    "並且使用最少的油耗抵達目的地\n",
    "並獲得最豐厚的利潤\n",
    "\n",
    "資料收集方式:\n",
    "從叫車客服端(或是叫車app)收集通聯資訊\n",
    "收集司機移動的地理位置軌跡歷程\n",
    "從司機的加油收據以及里程表收集資訊\n",
    "\n",
    "資料型態:\n",
    "文字檔, 記錄檔\n",
    "\n",
    "評估方法:\n",
    "將客戶下單時間跟找到司機接單平均時間做比較\n",
    "越短越好\n",
    "並將客戶上車後移動的路徑做分析\n",
    "路徑越短越好\n",
    "再收集司機的加油單\n",
    "金額越少越好\n",
    "\n",
    "\n",
    "\"\"\""
   ]
  }
 ],
 "metadata": {
  "kernelspec": {
   "display_name": "Python 3",
   "language": "python",
   "name": "python3"
  },
  "language_info": {
   "codemirror_mode": {
    "name": "ipython",
    "version": 3
   },
   "file_extension": ".py",
   "mimetype": "text/x-python",
   "name": "python",
   "nbconvert_exporter": "python",
   "pygments_lexer": "ipython3",
   "version": "3.7.3"
  }
 },
 "nbformat": 4,
 "nbformat_minor": 2
}
