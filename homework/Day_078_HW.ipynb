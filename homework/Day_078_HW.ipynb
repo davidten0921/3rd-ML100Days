{
 "cells": [
  {
   "cell_type": "markdown",
   "metadata": {},
   "source": [
    "## Work\n",
    "1. 請嘗試將 preproc_x 替換成以每筆資料的 min/max 進行標準化至 -1 ~ 1 間，再進行訓練\n",
    "2. 請嘗試將 mlp 疊更深 (e.g 5~10 層)，進行訓練後觀察 learning curve 的走勢\n",
    "3. (optional) 請改用 GPU 進行訓練 (如果你有 GPU 的話)，比較使用 CPU 與 GPU 的訓練速度"
   ]
  },
  {
   "cell_type": "code",
   "execution_count": 1,
   "metadata": {},
   "outputs": [
    {
     "data": {
      "text/plain": [
       "'\\nYour code here (optional)\\n確認硬體資源\\n'"
      ]
     },
     "execution_count": 1,
     "metadata": {},
     "output_type": "execute_result"
    }
   ],
   "source": [
    "## \n",
    "\"\"\"\n",
    "Your code here (optional)\n",
    "確認硬體資源\n",
    "\"\"\"\n"
   ]
  },
  {
   "cell_type": "code",
   "execution_count": 2,
   "metadata": {},
   "outputs": [
    {
     "name": "stderr",
     "output_type": "stream",
     "text": [
      "Using TensorFlow backend.\n"
     ]
    }
   ],
   "source": [
    "import os\n",
    "import keras\n",
    "import numpy as np\n",
    "\n",
    "# 請嘗試設定 GPU：os.environ\n",
    "os.environ[\"CUDA_VISIBLE_DEVICES\"] = \"0\"\n",
    "\n",
    "#Blas GEMM launch failed , 避免動態分配GPU / CPU, 出現問題\n",
    "import tensorflow as tf\n",
    "gpu_options = tf.GPUOptions(per_process_gpu_memory_fraction=0.333)\n",
    "sess = tf.Session(config=tf.ConfigProto(gpu_options=gpu_options))\n"
   ]
  },
  {
   "cell_type": "code",
   "execution_count": 3,
   "metadata": {},
   "outputs": [],
   "source": [
    "train, test = keras.datasets.cifar10.load_data()"
   ]
  },
  {
   "cell_type": "code",
   "execution_count": 4,
   "metadata": {},
   "outputs": [],
   "source": [
    "## 資料前處理\n",
    "\"\"\"\n",
    "Your code here\n",
    "\"\"\"\n",
    "def preproc_x(x, flatten=True):\n",
    "    x_min = np.amin(x)\n",
    "    x_max = np.amax(x)\n",
    "    x_diff = x_max - x_min\n",
    "    x = x.astype(np.float)\n",
    "    x_diff_half = x_diff / 2.\n",
    "    x = x - x_diff_half\n",
    "    x = x / x_diff_half;\n",
    "    if flatten:\n",
    "        x = x.reshape((len(x), -1))\n",
    "    return x\n",
    "\n",
    "def preproc_y(y, num_classes=10):\n",
    "    if y.shape[-1] == 1:\n",
    "        y = keras.utils.to_categorical(y, num_classes)\n",
    "    return y"
   ]
  },
  {
   "cell_type": "code",
   "execution_count": 5,
   "metadata": {},
   "outputs": [],
   "source": [
    "x_train, y_train = train\n",
    "x_test, y_test = test\n",
    "\n",
    "# Preproc the inputs\n",
    "x_train = preproc_x(x_train)\n",
    "x_test = preproc_x(x_test)\n",
    "\n",
    "# Preprc the outputs\n",
    "y_train = preproc_y(y_train)\n",
    "y_test = preproc_y(y_test)"
   ]
  },
  {
   "cell_type": "code",
   "execution_count": 6,
   "metadata": {},
   "outputs": [
    {
     "name": "stdout",
     "output_type": "stream",
     "text": [
      "WARNING:tensorflow:From d:\\sourcecode\\machinelearning\\venv\\lib\\site-packages\\keras\\backend\\tensorflow_backend.py:66: The name tf.get_default_graph is deprecated. Please use tf.compat.v1.get_default_graph instead.\n",
      "\n",
      "WARNING:tensorflow:From d:\\sourcecode\\machinelearning\\venv\\lib\\site-packages\\keras\\backend\\tensorflow_backend.py:541: The name tf.placeholder is deprecated. Please use tf.compat.v1.placeholder instead.\n",
      "\n",
      "WARNING:tensorflow:From d:\\sourcecode\\machinelearning\\venv\\lib\\site-packages\\keras\\backend\\tensorflow_backend.py:4432: The name tf.random_uniform is deprecated. Please use tf.random.uniform instead.\n",
      "\n",
      "Model: \"model_1\"\n",
      "_________________________________________________________________\n",
      "Layer (type)                 Output Shape              Param #   \n",
      "=================================================================\n",
      "input_1 (InputLayer)         (None, 3072)              0         \n",
      "_________________________________________________________________\n",
      "hidden_layer1 (Dense)        (None, 512)               1573376   \n",
      "_________________________________________________________________\n",
      "hidden_layer2 (Dense)        (None, 256)               131328    \n",
      "_________________________________________________________________\n",
      "hidden_layer3 (Dense)        (None, 256)               65792     \n",
      "_________________________________________________________________\n",
      "hidden_layer4 (Dense)        (None, 128)               32896     \n",
      "_________________________________________________________________\n",
      "hidden_layer5 (Dense)        (None, 128)               16512     \n",
      "_________________________________________________________________\n",
      "hidden_layer6 (Dense)        (None, 64)                8256      \n",
      "_________________________________________________________________\n",
      "hidden_layer7 (Dense)        (None, 64)                4160      \n",
      "_________________________________________________________________\n",
      "output (Dense)               (None, 10)                650       \n",
      "=================================================================\n",
      "Total params: 1,832,970\n",
      "Trainable params: 1,832,970\n",
      "Non-trainable params: 0\n",
      "_________________________________________________________________\n",
      "None\n"
     ]
    }
   ],
   "source": [
    "\"\"\"Code Here\n",
    "建立你的神經網路\n",
    "\"\"\"\n",
    "def build_mlp(input_shape, output_units=10, num_neurons=[512, 256, 256, 128, 128, 64, 64]):\n",
    "    input_layer = keras.layers.Input(input_shape)\n",
    "\n",
    "    for i, n_units in enumerate(num_neurons):\n",
    "        if i == 0:\n",
    "            x = keras.layers.Dense(units=n_units, activation=\"relu\", name=\"hidden_layer\" + str(i + 1))(input_layer)\n",
    "        else:\n",
    "            x = keras.layers.Dense(units=n_units, activation=\"relu\", name=\"hidden_layer\" + str(i + 1))(x)\n",
    "\n",
    "    out = keras.layers.Dense(units=output_units, activation=\"softmax\", name=\"output\")(x)\n",
    "\n",
    "    model = keras.models.Model(inputs=[input_layer], outputs=[out])\n",
    "    return model\n",
    "\n",
    "model = build_mlp(input_shape=x_train.shape[1:])\n",
    "print(model.summary())"
   ]
  },
  {
   "cell_type": "code",
   "execution_count": 7,
   "metadata": {},
   "outputs": [],
   "source": [
    "## 超參數設定\n",
    "LEARNING_RATE = 0.001\n",
    "EPOCHS = 100\n",
    "BATCH_SIZE = 256"
   ]
  },
  {
   "cell_type": "code",
   "execution_count": 8,
   "metadata": {},
   "outputs": [
    {
     "name": "stdout",
     "output_type": "stream",
     "text": [
      "WARNING:tensorflow:From d:\\sourcecode\\machinelearning\\venv\\lib\\site-packages\\keras\\optimizers.py:793: The name tf.train.Optimizer is deprecated. Please use tf.compat.v1.train.Optimizer instead.\n",
      "\n",
      "WARNING:tensorflow:From d:\\sourcecode\\machinelearning\\venv\\lib\\site-packages\\keras\\backend\\tensorflow_backend.py:3576: The name tf.log is deprecated. Please use tf.math.log instead.\n",
      "\n"
     ]
    }
   ],
   "source": [
    "optimizer = keras.optimizers.Adam(lr=LEARNING_RATE)\n",
    "model.compile(loss=\"categorical_crossentropy\", metrics=[\"accuracy\"], optimizer=optimizer)"
   ]
  },
  {
   "cell_type": "code",
   "execution_count": 9,
   "metadata": {},
   "outputs": [
    {
     "name": "stdout",
     "output_type": "stream",
     "text": [
      "WARNING:tensorflow:From d:\\sourcecode\\machinelearning\\venv\\lib\\site-packages\\tensorflow_core\\python\\ops\\math_grad.py:1424: where (from tensorflow.python.ops.array_ops) is deprecated and will be removed in a future version.\n",
      "Instructions for updating:\n",
      "Use tf.where in 2.0, which has the same broadcast rule as np.where\n",
      "WARNING:tensorflow:From d:\\sourcecode\\machinelearning\\venv\\lib\\site-packages\\keras\\backend\\tensorflow_backend.py:1033: The name tf.assign_add is deprecated. Please use tf.compat.v1.assign_add instead.\n",
      "\n",
      "WARNING:tensorflow:From d:\\sourcecode\\machinelearning\\venv\\lib\\site-packages\\keras\\backend\\tensorflow_backend.py:1020: The name tf.assign is deprecated. Please use tf.compat.v1.assign instead.\n",
      "\n",
      "Train on 50000 samples, validate on 10000 samples\n",
      "Epoch 1/100\n",
      "WARNING:tensorflow:From d:\\sourcecode\\machinelearning\\venv\\lib\\site-packages\\keras\\backend\\tensorflow_backend.py:190: The name tf.get_default_session is deprecated. Please use tf.compat.v1.get_default_session instead.\n",
      "\n",
      "WARNING:tensorflow:From d:\\sourcecode\\machinelearning\\venv\\lib\\site-packages\\keras\\backend\\tensorflow_backend.py:207: The name tf.global_variables is deprecated. Please use tf.compat.v1.global_variables instead.\n",
      "\n",
      "WARNING:tensorflow:From d:\\sourcecode\\machinelearning\\venv\\lib\\site-packages\\keras\\backend\\tensorflow_backend.py:216: The name tf.is_variable_initialized is deprecated. Please use tf.compat.v1.is_variable_initialized instead.\n",
      "\n",
      "WARNING:tensorflow:From d:\\sourcecode\\machinelearning\\venv\\lib\\site-packages\\keras\\backend\\tensorflow_backend.py:223: The name tf.variables_initializer is deprecated. Please use tf.compat.v1.variables_initializer instead.\n",
      "\n",
      "50000/50000 [==============================] - 3s 68us/step - loss: 1.7151 - acc: 0.3877 - val_loss: 1.5321 - val_acc: 0.4593\n",
      "Epoch 2/100\n",
      "50000/50000 [==============================] - 3s 52us/step - loss: 1.4749 - acc: 0.4800 - val_loss: 1.4460 - val_acc: 0.4866\n",
      "Epoch 3/100\n",
      "50000/50000 [==============================] - 3s 52us/step - loss: 1.3661 - acc: 0.5167 - val_loss: 1.4359 - val_acc: 0.4842\n",
      "Epoch 4/100\n",
      "50000/50000 [==============================] - 3s 51us/step - loss: 1.2642 - acc: 0.5542 - val_loss: 1.3836 - val_acc: 0.5154\n",
      "Epoch 5/100\n",
      "50000/50000 [==============================] - 3s 51us/step - loss: 1.1823 - acc: 0.5829 - val_loss: 1.3640 - val_acc: 0.5230\n",
      "Epoch 6/100\n",
      "50000/50000 [==============================] - 3s 52us/step - loss: 1.1059 - acc: 0.6092 - val_loss: 1.3768 - val_acc: 0.5300\n",
      "Epoch 7/100\n",
      "50000/50000 [==============================] - 3s 52us/step - loss: 1.0316 - acc: 0.6357 - val_loss: 1.3528 - val_acc: 0.5314\n",
      "Epoch 8/100\n",
      "50000/50000 [==============================] - 3s 52us/step - loss: 0.9576 - acc: 0.6633 - val_loss: 1.4057 - val_acc: 0.5264\n",
      "Epoch 9/100\n",
      "50000/50000 [==============================] - 3s 52us/step - loss: 0.9018 - acc: 0.6791 - val_loss: 1.4056 - val_acc: 0.5408\n",
      "Epoch 10/100\n",
      "50000/50000 [==============================] - 3s 52us/step - loss: 0.8328 - acc: 0.7056 - val_loss: 1.4170 - val_acc: 0.5291\n",
      "Epoch 11/100\n",
      "50000/50000 [==============================] - 3s 52us/step - loss: 0.7713 - acc: 0.7269 - val_loss: 1.4636 - val_acc: 0.5443\n",
      "Epoch 12/100\n",
      "50000/50000 [==============================] - 3s 52us/step - loss: 0.7013 - acc: 0.7507 - val_loss: 1.5622 - val_acc: 0.5358\n",
      "Epoch 13/100\n",
      "50000/50000 [==============================] - 3s 52us/step - loss: 0.6439 - acc: 0.7728 - val_loss: 1.5907 - val_acc: 0.5433\n",
      "Epoch 14/100\n",
      "50000/50000 [==============================] - 3s 55us/step - loss: 0.5975 - acc: 0.7894 - val_loss: 1.7205 - val_acc: 0.5298\n",
      "Epoch 15/100\n",
      "50000/50000 [==============================] - 3s 54us/step - loss: 0.5361 - acc: 0.8094 - val_loss: 1.7918 - val_acc: 0.5338\n",
      "Epoch 16/100\n",
      "50000/50000 [==============================] - 3s 51us/step - loss: 0.4989 - acc: 0.8234 - val_loss: 1.8758 - val_acc: 0.5293\n",
      "Epoch 17/100\n",
      "50000/50000 [==============================] - 3s 51us/step - loss: 0.4697 - acc: 0.8348 - val_loss: 1.8107 - val_acc: 0.5323\n",
      "Epoch 18/100\n",
      "50000/50000 [==============================] - 3s 51us/step - loss: 0.4305 - acc: 0.8495 - val_loss: 2.0344 - val_acc: 0.5333\n",
      "Epoch 19/100\n",
      "50000/50000 [==============================] - 3s 54us/step - loss: 0.3959 - acc: 0.8614 - val_loss: 2.1247 - val_acc: 0.5320\n",
      "Epoch 20/100\n",
      "50000/50000 [==============================] - 3s 53us/step - loss: 0.3621 - acc: 0.8730 - val_loss: 2.1720 - val_acc: 0.5326\n",
      "Epoch 21/100\n",
      "50000/50000 [==============================] - 3s 51us/step - loss: 0.3393 - acc: 0.8822 - val_loss: 2.3267 - val_acc: 0.5312\n",
      "Epoch 22/100\n",
      "50000/50000 [==============================] - 3s 60us/step - loss: 0.3173 - acc: 0.8908 - val_loss: 2.3339 - val_acc: 0.5281\n",
      "Epoch 23/100\n",
      "50000/50000 [==============================] - 3s 55us/step - loss: 0.2936 - acc: 0.8981 - val_loss: 2.3045 - val_acc: 0.5284\n",
      "Epoch 24/100\n",
      "50000/50000 [==============================] - 3s 54us/step - loss: 0.2881 - acc: 0.8998 - val_loss: 2.4082 - val_acc: 0.5237\n",
      "Epoch 25/100\n",
      "50000/50000 [==============================] - 3s 54us/step - loss: 0.2545 - acc: 0.9101 - val_loss: 2.5007 - val_acc: 0.5266\n",
      "Epoch 26/100\n",
      "50000/50000 [==============================] - 3s 54us/step - loss: 0.2425 - acc: 0.9143 - val_loss: 2.5480 - val_acc: 0.5308\n",
      "Epoch 27/100\n",
      "50000/50000 [==============================] - 3s 53us/step - loss: 0.2360 - acc: 0.9175 - val_loss: 2.4772 - val_acc: 0.5292\n",
      "Epoch 28/100\n",
      "50000/50000 [==============================] - 3s 57us/step - loss: 0.2254 - acc: 0.9220 - val_loss: 2.6820 - val_acc: 0.5196\n",
      "Epoch 29/100\n",
      "50000/50000 [==============================] - 3s 56us/step - loss: 0.2100 - acc: 0.9271 - val_loss: 2.7855 - val_acc: 0.5193\n",
      "Epoch 30/100\n",
      "50000/50000 [==============================] - 3s 52us/step - loss: 0.2041 - acc: 0.9310 - val_loss: 2.7458 - val_acc: 0.5234\n",
      "Epoch 31/100\n",
      "50000/50000 [==============================] - 3s 56us/step - loss: 0.1896 - acc: 0.9345 - val_loss: 2.7991 - val_acc: 0.5257\n",
      "Epoch 32/100\n",
      "50000/50000 [==============================] - 3s 60us/step - loss: 0.1909 - acc: 0.9344 - val_loss: 2.8302 - val_acc: 0.5274\n",
      "Epoch 33/100\n",
      "50000/50000 [==============================] - 3s 54us/step - loss: 0.1793 - acc: 0.9393 - val_loss: 2.8153 - val_acc: 0.5270\n",
      "Epoch 34/100\n",
      "50000/50000 [==============================] - 3s 54us/step - loss: 0.1827 - acc: 0.9378 - val_loss: 2.9106 - val_acc: 0.5247\n",
      "Epoch 35/100\n",
      "50000/50000 [==============================] - 3s 56us/step - loss: 0.1614 - acc: 0.9452 - val_loss: 2.9560 - val_acc: 0.5301\n",
      "Epoch 36/100\n",
      "50000/50000 [==============================] - 3s 56us/step - loss: 0.1592 - acc: 0.9464 - val_loss: 3.0514 - val_acc: 0.5235\n",
      "Epoch 37/100\n",
      "50000/50000 [==============================] - 3s 54us/step - loss: 0.1725 - acc: 0.9413 - val_loss: 2.9523 - val_acc: 0.5287\n",
      "Epoch 38/100\n",
      "50000/50000 [==============================] - 3s 57us/step - loss: 0.1447 - acc: 0.9512 - val_loss: 2.8410 - val_acc: 0.5257\n",
      "Epoch 39/100\n",
      "50000/50000 [==============================] - 3s 62us/step - loss: 0.1477 - acc: 0.9498 - val_loss: 2.8909 - val_acc: 0.5314\n",
      "Epoch 40/100\n",
      "50000/50000 [==============================] - 3s 54us/step - loss: 0.1416 - acc: 0.9527 - val_loss: 3.1124 - val_acc: 0.5304\n",
      "Epoch 41/100\n",
      "50000/50000 [==============================] - 3s 54us/step - loss: 0.1327 - acc: 0.9552 - val_loss: 3.1155 - val_acc: 0.5273\n",
      "Epoch 42/100\n",
      "50000/50000 [==============================] - 3s 52us/step - loss: 0.1313 - acc: 0.9566 - val_loss: 3.1438 - val_acc: 0.5266\n",
      "Epoch 43/100\n",
      "50000/50000 [==============================] - 3s 54us/step - loss: 0.1409 - acc: 0.9516 - val_loss: 3.0194 - val_acc: 0.5294\n",
      "Epoch 44/100\n",
      "50000/50000 [==============================] - 3s 58us/step - loss: 0.1388 - acc: 0.9540 - val_loss: 3.0390 - val_acc: 0.5291\n",
      "Epoch 45/100\n",
      "50000/50000 [==============================] - 3s 55us/step - loss: 0.1371 - acc: 0.9546 - val_loss: 3.1539 - val_acc: 0.5267\n",
      "Epoch 46/100\n",
      "50000/50000 [==============================] - 3s 53us/step - loss: 0.1289 - acc: 0.9565 - val_loss: 3.0904 - val_acc: 0.5263\n",
      "Epoch 47/100\n",
      "50000/50000 [==============================] - 3s 52us/step - loss: 0.1226 - acc: 0.9588 - val_loss: 3.0529 - val_acc: 0.5313\n",
      "Epoch 48/100\n"
     ]
    },
    {
     "name": "stdout",
     "output_type": "stream",
     "text": [
      "50000/50000 [==============================] - 3s 52us/step - loss: 0.1128 - acc: 0.9625 - val_loss: 3.0783 - val_acc: 0.5329\n",
      "Epoch 49/100\n",
      "50000/50000 [==============================] - 3s 54us/step - loss: 0.1167 - acc: 0.9607 - val_loss: 3.2500 - val_acc: 0.5261\n",
      "Epoch 50/100\n",
      "50000/50000 [==============================] - 3s 54us/step - loss: 0.1126 - acc: 0.9630 - val_loss: 3.1437 - val_acc: 0.5337\n",
      "Epoch 51/100\n",
      "50000/50000 [==============================] - 3s 52us/step - loss: 0.1098 - acc: 0.9633 - val_loss: 3.1941 - val_acc: 0.5284\n",
      "Epoch 52/100\n",
      "50000/50000 [==============================] - 3s 52us/step - loss: 0.0994 - acc: 0.9670 - val_loss: 3.2573 - val_acc: 0.5244\n",
      "Epoch 53/100\n",
      "50000/50000 [==============================] - 3s 51us/step - loss: 0.1173 - acc: 0.9616 - val_loss: 3.0668 - val_acc: 0.5266\n",
      "Epoch 54/100\n",
      "50000/50000 [==============================] - 3s 51us/step - loss: 0.1150 - acc: 0.9621 - val_loss: 3.1594 - val_acc: 0.5231\n",
      "Epoch 55/100\n",
      "50000/50000 [==============================] - 3s 51us/step - loss: 0.1045 - acc: 0.9655 - val_loss: 3.1560 - val_acc: 0.5259\n",
      "Epoch 56/100\n",
      "50000/50000 [==============================] - 3s 51us/step - loss: 0.1027 - acc: 0.9668 - val_loss: 3.2347 - val_acc: 0.5234\n",
      "Epoch 57/100\n",
      "50000/50000 [==============================] - 3s 52us/step - loss: 0.1086 - acc: 0.9641 - val_loss: 3.2286 - val_acc: 0.5287\n",
      "Epoch 58/100\n",
      "50000/50000 [==============================] - 3s 52us/step - loss: 0.0982 - acc: 0.9679 - val_loss: 3.4300 - val_acc: 0.5288\n",
      "Epoch 59/100\n",
      "50000/50000 [==============================] - 3s 52us/step - loss: 0.0948 - acc: 0.9690 - val_loss: 3.3234 - val_acc: 0.5270\n",
      "Epoch 60/100\n",
      "50000/50000 [==============================] - 3s 52us/step - loss: 0.0837 - acc: 0.9726 - val_loss: 3.3691 - val_acc: 0.5240\n",
      "Epoch 61/100\n",
      "50000/50000 [==============================] - 3s 52us/step - loss: 0.0964 - acc: 0.9689 - val_loss: 3.3451 - val_acc: 0.5284\n",
      "Epoch 62/100\n",
      "50000/50000 [==============================] - 3s 52us/step - loss: 0.1042 - acc: 0.9653 - val_loss: 3.4855 - val_acc: 0.5290\n",
      "Epoch 63/100\n",
      "50000/50000 [==============================] - 3s 52us/step - loss: 0.0984 - acc: 0.9676 - val_loss: 3.2199 - val_acc: 0.5315\n",
      "Epoch 64/100\n",
      "50000/50000 [==============================] - 3s 53us/step - loss: 0.0851 - acc: 0.9723 - val_loss: 3.3906 - val_acc: 0.5295\n",
      "Epoch 65/100\n",
      "50000/50000 [==============================] - 3s 56us/step - loss: 0.0806 - acc: 0.9729 - val_loss: 3.3219 - val_acc: 0.5306\n",
      "Epoch 66/100\n",
      "50000/50000 [==============================] - 3s 54us/step - loss: 0.0981 - acc: 0.9678 - val_loss: 3.4354 - val_acc: 0.5323\n",
      "Epoch 67/100\n",
      "50000/50000 [==============================] - 3s 61us/step - loss: 0.0902 - acc: 0.9702 - val_loss: 3.3974 - val_acc: 0.5350\n",
      "Epoch 68/100\n",
      "50000/50000 [==============================] - 3s 55us/step - loss: 0.0829 - acc: 0.9725 - val_loss: 3.1559 - val_acc: 0.5331\n",
      "Epoch 69/100\n",
      "50000/50000 [==============================] - 3s 56us/step - loss: 0.0909 - acc: 0.9708 - val_loss: 3.2136 - val_acc: 0.5323\n",
      "Epoch 70/100\n",
      "50000/50000 [==============================] - 3s 52us/step - loss: 0.0797 - acc: 0.9738 - val_loss: 3.4734 - val_acc: 0.5245\n",
      "Epoch 71/100\n",
      "50000/50000 [==============================] - 3s 52us/step - loss: 0.0885 - acc: 0.9706 - val_loss: 3.1826 - val_acc: 0.5285\n",
      "Epoch 72/100\n",
      "50000/50000 [==============================] - 3s 51us/step - loss: 0.0827 - acc: 0.9732 - val_loss: 3.4777 - val_acc: 0.5260\n",
      "Epoch 73/100\n",
      "50000/50000 [==============================] - 3s 52us/step - loss: 0.0781 - acc: 0.9745 - val_loss: 3.4352 - val_acc: 0.5260\n",
      "Epoch 74/100\n",
      "50000/50000 [==============================] - 3s 52us/step - loss: 0.0781 - acc: 0.9746 - val_loss: 3.3380 - val_acc: 0.5296\n",
      "Epoch 75/100\n",
      "50000/50000 [==============================] - 3s 52us/step - loss: 0.0798 - acc: 0.9734 - val_loss: 3.2751 - val_acc: 0.5241\n",
      "Epoch 76/100\n",
      "50000/50000 [==============================] - 3s 52us/step - loss: 0.0728 - acc: 0.9758 - val_loss: 3.5287 - val_acc: 0.5283\n",
      "Epoch 77/100\n",
      "50000/50000 [==============================] - 3s 52us/step - loss: 0.0810 - acc: 0.9733 - val_loss: 3.4636 - val_acc: 0.5302\n",
      "Epoch 78/100\n",
      "50000/50000 [==============================] - 3s 55us/step - loss: 0.0685 - acc: 0.9785 - val_loss: 3.4678 - val_acc: 0.5320\n",
      "Epoch 79/100\n",
      "50000/50000 [==============================] - 3s 52us/step - loss: 0.0819 - acc: 0.9731 - val_loss: 3.4178 - val_acc: 0.5292\n",
      "Epoch 80/100\n",
      "50000/50000 [==============================] - 3s 53us/step - loss: 0.0641 - acc: 0.9796 - val_loss: 3.5714 - val_acc: 0.5225\n",
      "Epoch 81/100\n",
      "50000/50000 [==============================] - 3s 52us/step - loss: 0.0774 - acc: 0.9747 - val_loss: 3.4004 - val_acc: 0.5284\n",
      "Epoch 82/100\n",
      "50000/50000 [==============================] - 3s 54us/step - loss: 0.0741 - acc: 0.9771 - val_loss: 3.4646 - val_acc: 0.5240\n",
      "Epoch 83/100\n",
      "50000/50000 [==============================] - 3s 51us/step - loss: 0.0690 - acc: 0.9781 - val_loss: 3.5711 - val_acc: 0.5319\n",
      "Epoch 84/100\n",
      "50000/50000 [==============================] - 3s 51us/step - loss: 0.0753 - acc: 0.9762 - val_loss: 3.5355 - val_acc: 0.5303\n",
      "Epoch 85/100\n",
      "50000/50000 [==============================] - 3s 52us/step - loss: 0.0709 - acc: 0.9771 - val_loss: 3.3765 - val_acc: 0.5246\n",
      "Epoch 86/100\n",
      "50000/50000 [==============================] - 3s 51us/step - loss: 0.0705 - acc: 0.9769 - val_loss: 3.3837 - val_acc: 0.5303\n",
      "Epoch 87/100\n",
      "50000/50000 [==============================] - 3s 52us/step - loss: 0.0738 - acc: 0.9766 - val_loss: 3.4282 - val_acc: 0.5274\n",
      "Epoch 88/100\n",
      "50000/50000 [==============================] - 3s 52us/step - loss: 0.0623 - acc: 0.9804 - val_loss: 3.5692 - val_acc: 0.5326\n",
      "Epoch 89/100\n",
      "50000/50000 [==============================] - 3s 58us/step - loss: 0.0646 - acc: 0.9789 - val_loss: 3.5663 - val_acc: 0.5302\n",
      "Epoch 90/100\n",
      "50000/50000 [==============================] - 3s 63us/step - loss: 0.0705 - acc: 0.9778 - val_loss: 3.5354 - val_acc: 0.5216\n",
      "Epoch 91/100\n",
      "50000/50000 [==============================] - 3s 53us/step - loss: 0.0644 - acc: 0.9790 - val_loss: 3.5723 - val_acc: 0.5308\n",
      "Epoch 92/100\n",
      "50000/50000 [==============================] - 3s 61us/step - loss: 0.0689 - acc: 0.9782 - val_loss: 3.4522 - val_acc: 0.5362\n",
      "Epoch 93/100\n",
      "50000/50000 [==============================] - 3s 53us/step - loss: 0.0595 - acc: 0.9812 - val_loss: 3.4841 - val_acc: 0.5356\n",
      "Epoch 94/100\n",
      "50000/50000 [==============================] - 3s 51us/step - loss: 0.0544 - acc: 0.9823 - val_loss: 3.5771 - val_acc: 0.5259\n",
      "Epoch 95/100\n",
      "50000/50000 [==============================] - 3s 51us/step - loss: 0.0685 - acc: 0.9778 - val_loss: 3.6052 - val_acc: 0.5363\n",
      "Epoch 96/100\n",
      "50000/50000 [==============================] - 3s 51us/step - loss: 0.0571 - acc: 0.9828 - val_loss: 3.6239 - val_acc: 0.5258\n",
      "Epoch 97/100\n",
      "50000/50000 [==============================] - 3s 51us/step - loss: 0.0700 - acc: 0.9781 - val_loss: 3.4494 - val_acc: 0.5281\n",
      "Epoch 98/100\n",
      "50000/50000 [==============================] - 3s 51us/step - loss: 0.0591 - acc: 0.9819 - val_loss: 3.6636 - val_acc: 0.5252\n",
      "Epoch 99/100\n",
      "50000/50000 [==============================] - 3s 51us/step - loss: 0.0579 - acc: 0.9816 - val_loss: 3.6727 - val_acc: 0.5394\n",
      "Epoch 100/100\n",
      "50000/50000 [==============================] - 3s 51us/step - loss: 0.0655 - acc: 0.9791 - val_loss: 3.3763 - val_acc: 0.5363\n"
     ]
    },
    {
     "data": {
      "text/plain": [
       "<keras.callbacks.History at 0x2363b86f3c8>"
      ]
     },
     "execution_count": 9,
     "metadata": {},
     "output_type": "execute_result"
    }
   ],
   "source": [
    "model.fit(x_train, y_train, \n",
    "          epochs=EPOCHS, \n",
    "          batch_size=BATCH_SIZE, \n",
    "          validation_data=(x_test, y_test), \n",
    "          shuffle=True)"
   ]
  },
  {
   "cell_type": "code",
   "execution_count": 11,
   "metadata": {},
   "outputs": [
    {
     "data": {
      "image/png": "[encoded data removed]",
      "text/plain": [
       "<Figure size 432x288 with 1 Axes>"
      ]
     },
     "metadata": {
      "needs_background": "light"
     },
     "output_type": "display_data"
    },
    {
     "data": {
      "image/png": "[encoded data removed]",
      "text/plain": [
       "<Figure size 432x288 with 1 Axes>"
      ]
     },
     "metadata": {
      "needs_background": "light"
     },
     "output_type": "display_data"
    }
   ],
   "source": [
    "import matplotlib.pyplot as plt\n",
    "\n",
    "\n",
    "train_loss = model.history.history[\"loss\"]\n",
    "valid_loss = model.history.history[\"val_loss\"]\n",
    "\n",
    "train_acc = model.history.history[\"acc\"]\n",
    "valid_acc = model.history.history[\"val_acc\"]\n",
    "\n",
    "plt.plot(range(len(train_loss)), train_loss, label=\"train loss\")\n",
    "plt.plot(range(len(valid_loss)), valid_loss, label=\"valid loss\")\n",
    "plt.legend()\n",
    "plt.title(\"Loss\")\n",
    "plt.show()\n",
    "\n",
    "plt.plot(range(len(train_acc)), train_acc, label=\"train accuracy\")\n",
    "plt.plot(range(len(valid_acc)), valid_acc, label=\"valid accuracy\")\n",
    "plt.legend()\n",
    "plt.title(\"Accuracy\")\n",
    "plt.show()"
   ]
  },
  {
   "cell_type": "code",
   "execution_count": null,
   "metadata": {},
   "outputs": [],
   "source": []
  }
 ],
 "metadata": {
  "kernelspec": {
   "display_name": "Python 3",
   "language": "python",
   "name": "python3"
  },
  "language_info": {
   "codemirror_mode": {
    "name": "ipython",
    "version": 3
   },
   "file_extension": ".py",
   "mimetype": "text/x-python",
   "name": "python",
   "nbconvert_exporter": "python",
   "pygments_lexer": "ipython3",
   "version": "3.6.6"
  }
 },
 "nbformat": 4,
 "nbformat_minor": 2
}
