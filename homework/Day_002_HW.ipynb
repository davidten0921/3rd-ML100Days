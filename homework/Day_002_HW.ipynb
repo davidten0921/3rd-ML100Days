{
 "cells": [
  {
   "cell_type": "markdown",
   "metadata": {},
   "source": [
    "## [作業目標]\n",
    "了解機器學習適合應用的領域與範疇。"
   ]
  },
  {
   "cell_type": "markdown",
   "metadata": {},
   "source": [
    "## [作業重點]\n",
    "透過瞭解機器學習的運作方式，找出非常適用機器學習應用的領域及其原因"
   ]
  },
  {
   "cell_type": "markdown",
   "metadata": {},
   "source": [
    "## 作業\n",
    "請找出一個你認為機器學習可以發光發熱的領域並闡述原因? "
   ]
  },
  {
   "cell_type": "code",
   "execution_count": null,
   "metadata": {},
   "outputs": [],
   "source": [
    "   \"\"\"\n",
    "   機器學習可以應用的範圍非常廣泛\n",
    "   若硬是要挑一個可能的領域\n",
    "   應該就是交通運輸方面的領域\n",
    "   原因:\n",
    "   1. 只要任意門還沒被發明出來, 交通運輸的需求永遠都存在\n",
    "   2. 自動駕駛, 無人駕駛 等功能還有很多可以開發的功能\n",
    "   因為交通的途徑有太多變數需要去熟悉它\n",
    "   而地球上所有的地理狀況永遠探勘不完, \n",
    "   要找到一個專門的規則來適用所有狀況幾乎是不可能\n",
    "   所以確實值得投入, 而不用擔心江郎才盡或是市場飽和的問題\n",
    "   \n",
    "   \"\"\""
   ]
  }
 ],
 "metadata": {
  "kernelspec": {
   "display_name": "Python 3",
   "language": "python",
   "name": "python3"
  },
  "language_info": {
   "codemirror_mode": {
    "name": "ipython",
    "version": 3
   },
   "file_extension": ".py",
   "mimetype": "text/x-python",
   "name": "python",
   "nbconvert_exporter": "python",
   "pygments_lexer": "ipython3",
   "version": "3.7.3"
  }
 },
 "nbformat": 4,
 "nbformat_minor": 2
}
